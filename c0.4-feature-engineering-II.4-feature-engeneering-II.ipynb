{
 "cells": [
  {
   "cell_type": "markdown",
   "id": "d3e9de95",
   "metadata": {
    "ExecuteTime": {
     "end_time": "2022-03-08T15:18:41.395847Z",
     "start_time": "2022-03-08T15:18:41.388787Z"
    },
    "heading_collapsed": true
   },
   "source": [
    "# PA005: High Value Customer Identification ( Insiders )"
   ]
  },
  {
   "cell_type": "markdown",
   "id": "ddbfd82a",
   "metadata": {
    "heading_collapsed": true,
    "hidden": true
   },
   "source": [
    "## Ciclo 00 Planejamento da Solução( IOT )"
   ]
  },
  {
   "cell_type": "markdown",
   "id": "00f25f54",
   "metadata": {
    "heading_collapsed": true,
    "hidden": true
   },
   "source": [
    "### Input - Entrada"
   ]
  },
  {
   "cell_type": "markdown",
   "id": "9f6d5836",
   "metadata": {
    "hidden": true
   },
   "source": [
    "1. Problema de Negócio\n",
    "- Selecionar os clientes mais valiosos para integrar um programa de Fidelização. \n",
    "\n",
    "2. Conjunto de Dados\n",
    "- Vendas de um e-commerce online, durante o período de um ano. "
   ]
  },
  {
   "cell_type": "markdown",
   "id": "27e98282",
   "metadata": {
    "heading_collapsed": true,
    "hidden": true
   },
   "source": [
    "### Outpout - Saída"
   ]
  },
  {
   "cell_type": "markdown",
   "id": "cbe635f7",
   "metadata": {
    "hidden": true
   },
   "source": [
    "1. indicação das pessoas que farão parte do programa de Insiders \n",
    "- Lista: client_id|is_insider|\n",
    "    \n",
    "            10323 | yes/1\n",
    "            32413 | no/1\n",
    "            \n",
    "2. Relatório com as respostas das perguntas de negócio.\n",
    "\n",
    "- Quem são as pessoas elegíveis para participar do programa de\n",
    "Insiders ?\n",
    "- Quantos clientes farão parte do grupo?\n",
    "- Quais as principais características desses clientes ?\n",
    "- Qual a porcentagem de contribuição do faturamento, vinda do\n",
    "Insiders ?\n",
    "- Qual a expectativa de faturamento desse grupo para os próximos\n",
    "meses ?\n",
    "- Quais as condições para uma pessoa ser elegível ao Insiders ?\n",
    "- Quais as condições para uma pessoa ser removida do Insiders ?\n",
    "- Qual a garantia que o programa Insiders é melhor que o restante da\n",
    "base ?\n",
    "- Quais ações o time de marketing pode realizar para aumentar o\n",
    "faturamento?"
   ]
  },
  {
   "cell_type": "markdown",
   "id": "e986a2aa",
   "metadata": {
    "ExecuteTime": {
     "end_time": "2022-03-08T17:10:18.797039Z",
     "start_time": "2022-03-08T17:10:18.786743Z"
    },
    "hidden": true
   },
   "source": [
    "### Tasks - Tarefas"
   ]
  },
  {
   "cell_type": "markdown",
   "id": "a85673d8",
   "metadata": {
    "ExecuteTime": {
     "end_time": "2022-03-08T17:10:35.256543Z",
     "start_time": "2022-03-08T17:10:35.249025Z"
    },
    "hidden": true
   },
   "source": [
    "1. Quem são as pessoas elegíveis para participar do programa de\n",
    "Insiders ?\n",
    "    - O que é ser elegível ?  O que são clientes de maior \"valor\"\n",
    "    - Faturamento: \n",
    "        - Alto Ticket médio.\n",
    "        - Alto LTV(receita média por cliente durante o relacionamento com a empresa.)\n",
    "        - Baixa Recência(tempo desde a ultima compra)\n",
    "        - Alto bascket size( Tamanho da sexta de compra)\n",
    "        - Baixa probabilidade de churn(Cliente para de comprar).\n",
    "        \n",
    "        \n",
    "    - Custo:\n",
    "        - Baixa Taxa de devolução. \n",
    "               \n",
    "        \n",
    "    - Experiência de Compra:\n",
    "        - Média alta das avaliação.         \n",
    "        \n",
    "\n",
    "2. Quantos clientes farão parte do grupo?\n",
    "    - Número total de clientes.\n",
    "    - % do grupo Insiders\n",
    "    \n",
    "3. Quais as principais características desses clientes ?\n",
    "    - Escrever características do cliente:\n",
    "        - Idade\n",
    "        - Localização. \n",
    "\n",
    "    - Escrever características do consumo.\n",
    "        - Atributos da clusterização. \n",
    "        \n",
    "4. Qual a porcentagem de contribuição do faturamento, vinda do Insiders ?\n",
    "         - Faturamento total do ano.\n",
    "         - Faturamento do grupo de Insiders\n",
    "         \n",
    "5. Qual a expectativa de faturamento desse grupo para os próximos meses ?\n",
    "        - LTV do grupo Insiders\n",
    "        - Análise de cohort()\n",
    "\n",
    "6. Quais as condições para uma pessoa ser elegível ao Insiders ?\n",
    "        - Definir a periodicidade( 1 mês, 3 mêses )\n",
    "        - A pessoa precisa ser similar ou parecido com uma pessoa grupo. \n",
    "               \n",
    "7. Quais as condições para uma pessoa ser removida do Insiders ?\n",
    "        - Definir a periodicidade( 1 mês, 3 mêses )\n",
    "        - A pessoa precisa ser desimilar ou não-parecido com uma pessoa grupo. \n",
    "        \n",
    "8. Qual a garantia que o programa Insiders é melhor que o restante da base ?\n",
    "    - Teste A/B\n",
    "    - Teste A/B Baysiano\n",
    "    - Teste de hipótese\n",
    "\n",
    "9. Quais ações o time de marketing pode realizar para aumentar o faturamento?\n",
    "    - Desconto\n",
    "    - Preferencia de compra\n",
    "    - Frente \n",
    "    - Visita a empresa"
   ]
  },
  {
   "cell_type": "markdown",
   "id": "f7ddb094",
   "metadata": {
    "heading_collapsed": true,
    "hidden": true
   },
   "source": [
    "## Ciclo 01 - Métricas de Validação de Cluster"
   ]
  },
  {
   "cell_type": "markdown",
   "id": "1fd70072",
   "metadata": {
    "ExecuteTime": {
     "end_time": "2022-03-16T20:42:06.665958Z",
     "start_time": "2022-03-16T20:42:06.642917Z"
    },
    "hidden": true
   },
   "source": [
    "1. Feature Engineering\n",
    "- Recências\n",
    "- Frequência\n",
    "- Monetização\n",
    "\n",
    "2. Métricas de Validação de Clustering\n",
    "- wss( Within-CLuster Sum of Square)\n",
    "- SS( Silhouette Score)\n",
    "\n",
    "3. Cluster Analysis\n",
    "- Plot 3D\n",
    "- Cluster Profile"
   ]
  },
  {
   "cell_type": "markdown",
   "id": "8b271c20",
   "metadata": {
    "heading_collapsed": true,
    "hidden": true
   },
   "source": [
    "## Ciclo 02 - Métricas de Validação de Cluster"
   ]
  },
  {
   "cell_type": "markdown",
   "id": "247d9584",
   "metadata": {
    "hidden": true
   },
   "source": [
    "1. Feature Engineering\n",
    "- Avarage Ticket\n",
    "\n",
    "2. Análise de Silhouette\n",
    "- Silhouette Analysis\n",
    "\n",
    "3. Cluster Visualization\n",
    "- UMAP\n",
    "\n",
    "4. Cluster Análise de Perfil\n",
    "- Descrição dos centróides dos cluster\n"
   ]
  },
  {
   "cell_type": "markdown",
   "id": "4758b653",
   "metadata": {
    "heading_collapsed": true,
    "hidden": true
   },
   "source": [
    "## Ciclo 03 - Métricas de Validação de Cluster"
   ]
  },
  {
   "cell_type": "markdown",
   "id": "46807530",
   "metadata": {
    "hidden": true
   },
   "source": [
    "1. Análise Descritiva\n",
    "- Atributos numéricos\n",
    "- Atributos categóricos\n",
    "\n",
    "2. Feature Engineering\n",
    "- Avarage Recebcy\n",
    "- Number of Returns\n",
    "\n",
    "3. Data preparation\n",
    "- Standard Scaler\n"
   ]
  },
  {
   "cell_type": "markdown",
   "id": "a74a8f48",
   "metadata": {
    "ExecuteTime": {
     "end_time": "2022-03-09T13:03:35.432627Z",
     "start_time": "2022-03-09T13:03:35.426615Z"
    }
   },
   "source": [
    "# 0.0 Imports"
   ]
  },
  {
   "cell_type": "markdown",
   "id": "6c74074a",
   "metadata": {},
   "source": [
    "## 0.1. Libries"
   ]
  },
  {
   "cell_type": "code",
   "execution_count": 112,
   "id": "745b80d6",
   "metadata": {
    "ExecuteTime": {
     "end_time": "2022-03-21T22:12:03.861031Z",
     "start_time": "2022-03-21T22:12:03.547787Z"
    }
   },
   "outputs": [],
   "source": [
    "import pandas     as pd\n",
    "import numpy      as np\n",
    "import seaborn    as sns\n",
    "import umap.umap_ as umap\n",
    "import regex      as re\n",
    "\n",
    "from matplotlib          import pyplot  as plt\n",
    "\n",
    "from sklearn             import cluster as c\n",
    "from sklearn             import preprocessing as pp\n",
    "from sklearn.cluster     import KMeans\n",
    "from yellowbrick.cluster import KElbowVisualizer, SilhouetteVisualizer\n",
    "from sklearn             import metrics as m\n",
    "\n",
    "from plotly              import express as px\n",
    "\n",
    "from pandas_profiling    import ProfileReport\n",
    "\n",
    "\n",
    "\n",
    "import warnings\n",
    "warnings.filterwarnings('ignore')\n"
   ]
  },
  {
   "cell_type": "markdown",
   "id": "dcf7afce",
   "metadata": {},
   "source": [
    "## 0.2. Helper Function"
   ]
  },
  {
   "cell_type": "markdown",
   "id": "8dddce71",
   "metadata": {},
   "source": [
    "## 0.3. Load Dataset"
   ]
  },
  {
   "cell_type": "code",
   "execution_count": 2,
   "id": "10fd09db",
   "metadata": {
    "ExecuteTime": {
     "end_time": "2022-03-21T20:16:48.053713Z",
     "start_time": "2022-03-21T20:16:47.034670Z"
    }
   },
   "outputs": [],
   "source": [
    "#Load data\n",
    "df_raw = pd.read_csv('data/Ecommerce.csv', sep=',', encoding = \"ISO-8859-1\")\n",
    "\n",
    "#Drop extra column\n",
    "df_raw = df_raw.drop( columns = ['Unnamed: 8'], axis = 1 )"
   ]
  },
  {
   "cell_type": "code",
   "execution_count": 3,
   "id": "f4bc2d46",
   "metadata": {
    "ExecuteTime": {
     "end_time": "2022-03-21T20:16:48.082031Z",
     "start_time": "2022-03-21T20:16:48.056841Z"
    }
   },
   "outputs": [
    {
     "data": {
      "text/html": [
       "<div>\n",
       "<style scoped>\n",
       "    .dataframe tbody tr th:only-of-type {\n",
       "        vertical-align: middle;\n",
       "    }\n",
       "\n",
       "    .dataframe tbody tr th {\n",
       "        vertical-align: top;\n",
       "    }\n",
       "\n",
       "    .dataframe thead th {\n",
       "        text-align: right;\n",
       "    }\n",
       "</style>\n",
       "<table border=\"1\" class=\"dataframe\">\n",
       "  <thead>\n",
       "    <tr style=\"text-align: right;\">\n",
       "      <th></th>\n",
       "      <th>InvoiceNo</th>\n",
       "      <th>StockCode</th>\n",
       "      <th>Description</th>\n",
       "      <th>Quantity</th>\n",
       "      <th>InvoiceDate</th>\n",
       "      <th>UnitPrice</th>\n",
       "      <th>CustomerID</th>\n",
       "      <th>Country</th>\n",
       "    </tr>\n",
       "  </thead>\n",
       "  <tbody>\n",
       "    <tr>\n",
       "      <th>0</th>\n",
       "      <td>536365</td>\n",
       "      <td>85123A</td>\n",
       "      <td>WHITE HANGING HEART T-LIGHT HOLDER</td>\n",
       "      <td>6</td>\n",
       "      <td>29-Nov-16</td>\n",
       "      <td>2.55</td>\n",
       "      <td>17850.0</td>\n",
       "      <td>United Kingdom</td>\n",
       "    </tr>\n",
       "    <tr>\n",
       "      <th>1</th>\n",
       "      <td>536365</td>\n",
       "      <td>71053</td>\n",
       "      <td>WHITE METAL LANTERN</td>\n",
       "      <td>6</td>\n",
       "      <td>29-Nov-16</td>\n",
       "      <td>3.39</td>\n",
       "      <td>17850.0</td>\n",
       "      <td>United Kingdom</td>\n",
       "    </tr>\n",
       "    <tr>\n",
       "      <th>2</th>\n",
       "      <td>536365</td>\n",
       "      <td>84406B</td>\n",
       "      <td>CREAM CUPID HEARTS COAT HANGER</td>\n",
       "      <td>8</td>\n",
       "      <td>29-Nov-16</td>\n",
       "      <td>2.75</td>\n",
       "      <td>17850.0</td>\n",
       "      <td>United Kingdom</td>\n",
       "    </tr>\n",
       "    <tr>\n",
       "      <th>3</th>\n",
       "      <td>536365</td>\n",
       "      <td>84029G</td>\n",
       "      <td>KNITTED UNION FLAG HOT WATER BOTTLE</td>\n",
       "      <td>6</td>\n",
       "      <td>29-Nov-16</td>\n",
       "      <td>3.39</td>\n",
       "      <td>17850.0</td>\n",
       "      <td>United Kingdom</td>\n",
       "    </tr>\n",
       "    <tr>\n",
       "      <th>4</th>\n",
       "      <td>536365</td>\n",
       "      <td>84029E</td>\n",
       "      <td>RED WOOLLY HOTTIE WHITE HEART.</td>\n",
       "      <td>6</td>\n",
       "      <td>29-Nov-16</td>\n",
       "      <td>3.39</td>\n",
       "      <td>17850.0</td>\n",
       "      <td>United Kingdom</td>\n",
       "    </tr>\n",
       "  </tbody>\n",
       "</table>\n",
       "</div>"
      ],
      "text/plain": [
       "  InvoiceNo StockCode                          Description  Quantity  \\\n",
       "0    536365    85123A   WHITE HANGING HEART T-LIGHT HOLDER         6   \n",
       "1    536365     71053                  WHITE METAL LANTERN         6   \n",
       "2    536365    84406B       CREAM CUPID HEARTS COAT HANGER         8   \n",
       "3    536365    84029G  KNITTED UNION FLAG HOT WATER BOTTLE         6   \n",
       "4    536365    84029E       RED WOOLLY HOTTIE WHITE HEART.         6   \n",
       "\n",
       "  InvoiceDate  UnitPrice  CustomerID         Country  \n",
       "0   29-Nov-16       2.55     17850.0  United Kingdom  \n",
       "1   29-Nov-16       3.39     17850.0  United Kingdom  \n",
       "2   29-Nov-16       2.75     17850.0  United Kingdom  \n",
       "3   29-Nov-16       3.39     17850.0  United Kingdom  \n",
       "4   29-Nov-16       3.39     17850.0  United Kingdom  "
      ]
     },
     "execution_count": 3,
     "metadata": {},
     "output_type": "execute_result"
    }
   ],
   "source": [
    "df_raw.head()"
   ]
  },
  {
   "cell_type": "markdown",
   "id": "16094006",
   "metadata": {},
   "source": [
    "# 1.0. Descrição dos Dados"
   ]
  },
  {
   "cell_type": "code",
   "execution_count": 4,
   "id": "00072b28",
   "metadata": {
    "ExecuteTime": {
     "end_time": "2022-03-21T20:16:48.124151Z",
     "start_time": "2022-03-21T20:16:48.083839Z"
    }
   },
   "outputs": [],
   "source": [
    "df1 = df_raw.copy()"
   ]
  },
  {
   "cell_type": "markdown",
   "id": "75bb3229",
   "metadata": {},
   "source": [
    "## 1.1 Rename Columuns"
   ]
  },
  {
   "cell_type": "code",
   "execution_count": 5,
   "id": "0c3ecb0e",
   "metadata": {
    "ExecuteTime": {
     "end_time": "2022-03-21T20:16:48.143478Z",
     "start_time": "2022-03-21T20:16:48.127300Z"
    }
   },
   "outputs": [
    {
     "data": {
      "text/plain": [
       "Index(['InvoiceNo', 'StockCode', 'Description', 'Quantity', 'InvoiceDate',\n",
       "       'UnitPrice', 'CustomerID', 'Country'],\n",
       "      dtype='object')"
      ]
     },
     "execution_count": 5,
     "metadata": {},
     "output_type": "execute_result"
    }
   ],
   "source": [
    "df1.columns"
   ]
  },
  {
   "cell_type": "code",
   "execution_count": 6,
   "id": "181d5369",
   "metadata": {
    "ExecuteTime": {
     "end_time": "2022-03-21T20:16:48.155057Z",
     "start_time": "2022-03-21T20:16:48.146222Z"
    }
   },
   "outputs": [
    {
     "data": {
      "text/plain": [
       "Index(['invoice_no', 'stock_code', 'description', 'quantity', 'invoice_date',\n",
       "       'unit_price', 'customer_id', 'country'],\n",
       "      dtype='object')"
      ]
     },
     "execution_count": 6,
     "metadata": {},
     "output_type": "execute_result"
    }
   ],
   "source": [
    "cols_new= ['invoice_no', 'stock_code', 'description', 'quantity', 'invoice_date', 'unit_price', 'customer_id', 'country']\n",
    "df1.columns = cols_new\n",
    "df1.columns"
   ]
  },
  {
   "cell_type": "markdown",
   "id": "b8cf4c95",
   "metadata": {},
   "source": [
    "## 1.2. Data Dimensions"
   ]
  },
  {
   "cell_type": "code",
   "execution_count": 7,
   "id": "65eac1c8",
   "metadata": {
    "ExecuteTime": {
     "end_time": "2022-03-21T20:16:48.173566Z",
     "start_time": "2022-03-21T20:16:48.156623Z"
    }
   },
   "outputs": [
    {
     "name": "stdout",
     "output_type": "stream",
     "text": [
      "Number of Rows: 541909\n",
      "Number of cols: 8\n"
     ]
    }
   ],
   "source": [
    "print( 'Number of Rows: {}'.format( df1.shape[0] ) )\n",
    "print( 'Number of cols: {}'.format( df1.shape[1] ) )"
   ]
  },
  {
   "cell_type": "markdown",
   "id": "0fd8b432",
   "metadata": {},
   "source": [
    "## 1.3. Data Types"
   ]
  },
  {
   "cell_type": "code",
   "execution_count": 8,
   "id": "7d453b0f",
   "metadata": {
    "ExecuteTime": {
     "end_time": "2022-03-21T20:16:48.185972Z",
     "start_time": "2022-03-21T20:16:48.175763Z"
    }
   },
   "outputs": [
    {
     "data": {
      "text/plain": [
       "invoice_no       object\n",
       "stock_code       object\n",
       "description      object\n",
       "quantity          int64\n",
       "invoice_date     object\n",
       "unit_price      float64\n",
       "customer_id     float64\n",
       "country          object\n",
       "dtype: object"
      ]
     },
     "execution_count": 8,
     "metadata": {},
     "output_type": "execute_result"
    }
   ],
   "source": [
    "df1.dtypes"
   ]
  },
  {
   "cell_type": "markdown",
   "id": "16335e28",
   "metadata": {},
   "source": [
    "## 1.4. Check NA"
   ]
  },
  {
   "cell_type": "code",
   "execution_count": 10,
   "id": "4919a289",
   "metadata": {
    "ExecuteTime": {
     "end_time": "2022-03-21T20:17:38.927399Z",
     "start_time": "2022-03-21T20:17:38.568244Z"
    }
   },
   "outputs": [
    {
     "data": {
      "text/plain": [
       "invoice_no           0\n",
       "stock_code           0\n",
       "description       1454\n",
       "quantity             0\n",
       "invoice_date         0\n",
       "unit_price           0\n",
       "customer_id     135080\n",
       "country              0\n",
       "dtype: int64"
      ]
     },
     "execution_count": 10,
     "metadata": {},
     "output_type": "execute_result"
    }
   ],
   "source": [
    "df1.isna().sum()"
   ]
  },
  {
   "cell_type": "markdown",
   "id": "d8ae6ffe",
   "metadata": {},
   "source": [
    "## 1.5 Replace NA"
   ]
  },
  {
   "cell_type": "code",
   "execution_count": 11,
   "id": "47beecd8",
   "metadata": {
    "ExecuteTime": {
     "end_time": "2022-03-21T20:18:00.707538Z",
     "start_time": "2022-03-21T20:18:00.565903Z"
    }
   },
   "outputs": [],
   "source": [
    "#separar um dataframe só com os dados que tem customer_id NaN(df_missing)\n",
    "df_missing = df1.loc[df1['customer_id'].isna(), :]\n",
    "\n",
    "#separar um dataframe só com os dados que tem customer_id sem Nan\n",
    "df_not_missing = df1.loc[~df1['customer_id'].isna(), :]"
   ]
  },
  {
   "cell_type": "code",
   "execution_count": 12,
   "id": "8c32bd7f",
   "metadata": {
    "ExecuteTime": {
     "end_time": "2022-03-21T20:18:18.453855Z",
     "start_time": "2022-03-21T20:18:18.153158Z"
    },
    "scrolled": true
   },
   "outputs": [],
   "source": [
    "#create reference\n",
    "df_backup = pd.DataFrame( df_missing['invoice_no'].drop_duplicates() )\n",
    "df_backup['customer_id'] = np.arange(19000, 19000+len( df_backup ), 1 )\n",
    "\n",
    "#merge original with reference dataframe\n",
    "df1 = pd.merge( df1, df_backup, on = 'invoice_no', how = 'left' )\n",
    "\n",
    "#coalesce\n",
    "df1['customer_id'] = df1['customer_id_x'].combine_first( df1['customer_id_y'])\n",
    "\n",
    "#drop extra columns\n",
    "df1 = df1.drop( columns = ['customer_id_x', 'customer_id_y'], axis = 1)"
   ]
  },
  {
   "cell_type": "code",
   "execution_count": 13,
   "id": "bf3c6e69",
   "metadata": {
    "ExecuteTime": {
     "end_time": "2022-03-21T20:18:24.216584Z",
     "start_time": "2022-03-21T20:18:23.781892Z"
    }
   },
   "outputs": [
    {
     "data": {
      "text/plain": [
       "invoice_no         0\n",
       "stock_code         0\n",
       "description     1454\n",
       "quantity           0\n",
       "invoice_date       0\n",
       "unit_price         0\n",
       "country            0\n",
       "customer_id        0\n",
       "dtype: int64"
      ]
     },
     "execution_count": 13,
     "metadata": {},
     "output_type": "execute_result"
    }
   ],
   "source": [
    "df1.isna().sum()"
   ]
  },
  {
   "cell_type": "markdown",
   "id": "c58990e3",
   "metadata": {},
   "source": [
    "## 1.6 Change Types"
   ]
  },
  {
   "cell_type": "code",
   "execution_count": 14,
   "id": "c5fcd763",
   "metadata": {
    "ExecuteTime": {
     "end_time": "2022-03-21T20:18:51.371100Z",
     "start_time": "2022-03-21T20:18:51.198687Z"
    }
   },
   "outputs": [
    {
     "data": {
      "text/html": [
       "<div>\n",
       "<style scoped>\n",
       "    .dataframe tbody tr th:only-of-type {\n",
       "        vertical-align: middle;\n",
       "    }\n",
       "\n",
       "    .dataframe tbody tr th {\n",
       "        vertical-align: top;\n",
       "    }\n",
       "\n",
       "    .dataframe thead th {\n",
       "        text-align: right;\n",
       "    }\n",
       "</style>\n",
       "<table border=\"1\" class=\"dataframe\">\n",
       "  <thead>\n",
       "    <tr style=\"text-align: right;\">\n",
       "      <th></th>\n",
       "      <th>invoice_no</th>\n",
       "      <th>stock_code</th>\n",
       "      <th>description</th>\n",
       "      <th>quantity</th>\n",
       "      <th>invoice_date</th>\n",
       "      <th>unit_price</th>\n",
       "      <th>country</th>\n",
       "      <th>customer_id</th>\n",
       "    </tr>\n",
       "  </thead>\n",
       "  <tbody>\n",
       "    <tr>\n",
       "      <th>0</th>\n",
       "      <td>536365</td>\n",
       "      <td>85123A</td>\n",
       "      <td>WHITE HANGING HEART T-LIGHT HOLDER</td>\n",
       "      <td>6</td>\n",
       "      <td>2016-11-29</td>\n",
       "      <td>2.55</td>\n",
       "      <td>United Kingdom</td>\n",
       "      <td>17850</td>\n",
       "    </tr>\n",
       "  </tbody>\n",
       "</table>\n",
       "</div>"
      ],
      "text/plain": [
       "  invoice_no stock_code                         description  quantity  \\\n",
       "0     536365     85123A  WHITE HANGING HEART T-LIGHT HOLDER         6   \n",
       "\n",
       "  invoice_date  unit_price         country  customer_id  \n",
       "0   2016-11-29        2.55  United Kingdom        17850  "
      ]
     },
     "execution_count": 14,
     "metadata": {},
     "output_type": "execute_result"
    }
   ],
   "source": [
    "#invoice date\n",
    "df1['invoice_date'] = pd.to_datetime( df1['invoice_date'], format = '%d-%b-%y')\n",
    "\n",
    "#customer id\n",
    "df1['customer_id'] = df1['customer_id'].astype( int )\n",
    "df1.head(1)"
   ]
  },
  {
   "cell_type": "code",
   "execution_count": 15,
   "id": "d9c4e261",
   "metadata": {
    "ExecuteTime": {
     "end_time": "2022-03-21T20:18:56.320590Z",
     "start_time": "2022-03-21T20:18:56.305254Z"
    }
   },
   "outputs": [
    {
     "data": {
      "text/plain": [
       "invoice_no              object\n",
       "stock_code              object\n",
       "description             object\n",
       "quantity                 int64\n",
       "invoice_date    datetime64[ns]\n",
       "unit_price             float64\n",
       "country                 object\n",
       "customer_id              int64\n",
       "dtype: object"
      ]
     },
     "execution_count": 15,
     "metadata": {},
     "output_type": "execute_result"
    }
   ],
   "source": [
    "df1.dtypes"
   ]
  },
  {
   "cell_type": "markdown",
   "id": "33c1cf9d",
   "metadata": {},
   "source": [
    "## 1.7. Desctiptive Statistical"
   ]
  },
  {
   "cell_type": "code",
   "execution_count": 16,
   "id": "8a99a0d7",
   "metadata": {
    "ExecuteTime": {
     "end_time": "2022-03-21T20:19:03.108244Z",
     "start_time": "2022-03-21T20:19:03.095573Z"
    }
   },
   "outputs": [],
   "source": [
    "num_attributes = df1.select_dtypes( include = ['int64', 'float64'] )\n",
    "cat_attributes = df1.select_dtypes( exclude = ['int64', 'float64', 'datetime64[ns]'])"
   ]
  },
  {
   "cell_type": "markdown",
   "id": "8298b3d1",
   "metadata": {},
   "source": [
    "### 1.7.1 Numerical Atributes"
   ]
  },
  {
   "cell_type": "code",
   "execution_count": 17,
   "id": "5e9f47ad",
   "metadata": {
    "ExecuteTime": {
     "end_time": "2022-03-21T20:19:12.966982Z",
     "start_time": "2022-03-21T20:19:12.575628Z"
    },
    "scrolled": true
   },
   "outputs": [
    {
     "data": {
      "text/html": [
       "<div>\n",
       "<style scoped>\n",
       "    .dataframe tbody tr th:only-of-type {\n",
       "        vertical-align: middle;\n",
       "    }\n",
       "\n",
       "    .dataframe tbody tr th {\n",
       "        vertical-align: top;\n",
       "    }\n",
       "\n",
       "    .dataframe thead th {\n",
       "        text-align: right;\n",
       "    }\n",
       "</style>\n",
       "<table border=\"1\" class=\"dataframe\">\n",
       "  <thead>\n",
       "    <tr style=\"text-align: right;\">\n",
       "      <th></th>\n",
       "      <th>attributes</th>\n",
       "      <th>min</th>\n",
       "      <th>max</th>\n",
       "      <th>range</th>\n",
       "      <th>mean</th>\n",
       "      <th>median</th>\n",
       "      <th>std</th>\n",
       "      <th>skew</th>\n",
       "      <th>kurtosis</th>\n",
       "    </tr>\n",
       "  </thead>\n",
       "  <tbody>\n",
       "    <tr>\n",
       "      <th>0</th>\n",
       "      <td>quantity</td>\n",
       "      <td>-80995.00</td>\n",
       "      <td>80995.0</td>\n",
       "      <td>161990.00</td>\n",
       "      <td>9.552250</td>\n",
       "      <td>3.00</td>\n",
       "      <td>218.080957</td>\n",
       "      <td>-0.264076</td>\n",
       "      <td>119769.160031</td>\n",
       "    </tr>\n",
       "    <tr>\n",
       "      <th>1</th>\n",
       "      <td>unit_price</td>\n",
       "      <td>-11062.06</td>\n",
       "      <td>38970.0</td>\n",
       "      <td>50032.06</td>\n",
       "      <td>4.611114</td>\n",
       "      <td>2.08</td>\n",
       "      <td>96.759764</td>\n",
       "      <td>186.506972</td>\n",
       "      <td>59005.719097</td>\n",
       "    </tr>\n",
       "    <tr>\n",
       "      <th>2</th>\n",
       "      <td>customer_id</td>\n",
       "      <td>12346.00</td>\n",
       "      <td>22709.0</td>\n",
       "      <td>10363.00</td>\n",
       "      <td>16688.840453</td>\n",
       "      <td>16249.00</td>\n",
       "      <td>2911.408666</td>\n",
       "      <td>0.487449</td>\n",
       "      <td>-0.804287</td>\n",
       "    </tr>\n",
       "  </tbody>\n",
       "</table>\n",
       "</div>"
      ],
      "text/plain": [
       "    attributes       min      max      range          mean    median  \\\n",
       "0     quantity -80995.00  80995.0  161990.00      9.552250      3.00   \n",
       "1   unit_price -11062.06  38970.0   50032.06      4.611114      2.08   \n",
       "2  customer_id  12346.00  22709.0   10363.00  16688.840453  16249.00   \n",
       "\n",
       "           std        skew       kurtosis  \n",
       "0   218.080957   -0.264076  119769.160031  \n",
       "1    96.759764  186.506972   59005.719097  \n",
       "2  2911.408666    0.487449      -0.804287  "
      ]
     },
     "execution_count": 17,
     "metadata": {},
     "output_type": "execute_result"
    }
   ],
   "source": [
    "#Central tendency - mean, median\n",
    "ct1 = pd.DataFrame( num_attributes.apply( np.mean ) ).T\n",
    "ct2 = pd.DataFrame( num_attributes.apply( np.median ) ).T\n",
    "\n",
    "#Dispersion - std, min, max, range, skew, kurtosis \n",
    "d1 = pd.DataFrame( num_attributes.apply( np.std) ).T\n",
    "d2 = pd.DataFrame( num_attributes.apply( min ) ).T\n",
    "d3 = pd.DataFrame( num_attributes.apply( max ) ).T\n",
    "d4 = pd.DataFrame( num_attributes.apply( lambda x: x.max() - x.min() ) ).T\n",
    "d5 = pd.DataFrame( num_attributes.apply( lambda x: x.skew() ) ).T\n",
    "d6 = pd.DataFrame( num_attributes.apply( lambda x: x.kurtosis() ) ).T\n",
    "\n",
    "# concatenate\n",
    "m = pd.concat( [d2, d3, d4, ct1, ct2, d1, d5, d6]).T.reset_index()\n",
    "m.columns = ['attributes', 'min', 'max', 'range', 'mean', 'median', 'std', 'skew', 'kurtosis']\n",
    "m"
   ]
  },
  {
   "cell_type": "markdown",
   "id": "67357a27",
   "metadata": {},
   "source": [
    "#### 1.7.1.1 Numerical Atributs - Investigating"
   ]
  },
  {
   "cell_type": "markdown",
   "id": "0594a627",
   "metadata": {},
   "source": [
    "1. Quantidade negativa( pode ser devolução )\n",
    "2. Preço unitário igual a zero(pode ser promoção? )\n"
   ]
  },
  {
   "cell_type": "markdown",
   "id": "44420ef7",
   "metadata": {},
   "source": [
    "### 1.7.2 Categorical Atributes"
   ]
  },
  {
   "cell_type": "code",
   "execution_count": 18,
   "id": "86a2a241",
   "metadata": {
    "ExecuteTime": {
     "end_time": "2022-03-21T20:19:27.412619Z",
     "start_time": "2022-03-21T20:19:27.388368Z"
    }
   },
   "outputs": [
    {
     "data": {
      "text/html": [
       "<div>\n",
       "<style scoped>\n",
       "    .dataframe tbody tr th:only-of-type {\n",
       "        vertical-align: middle;\n",
       "    }\n",
       "\n",
       "    .dataframe tbody tr th {\n",
       "        vertical-align: top;\n",
       "    }\n",
       "\n",
       "    .dataframe thead th {\n",
       "        text-align: right;\n",
       "    }\n",
       "</style>\n",
       "<table border=\"1\" class=\"dataframe\">\n",
       "  <thead>\n",
       "    <tr style=\"text-align: right;\">\n",
       "      <th></th>\n",
       "      <th>invoice_no</th>\n",
       "      <th>stock_code</th>\n",
       "      <th>description</th>\n",
       "      <th>country</th>\n",
       "    </tr>\n",
       "  </thead>\n",
       "  <tbody>\n",
       "    <tr>\n",
       "      <th>0</th>\n",
       "      <td>536365</td>\n",
       "      <td>85123A</td>\n",
       "      <td>WHITE HANGING HEART T-LIGHT HOLDER</td>\n",
       "      <td>United Kingdom</td>\n",
       "    </tr>\n",
       "    <tr>\n",
       "      <th>1</th>\n",
       "      <td>536365</td>\n",
       "      <td>71053</td>\n",
       "      <td>WHITE METAL LANTERN</td>\n",
       "      <td>United Kingdom</td>\n",
       "    </tr>\n",
       "    <tr>\n",
       "      <th>2</th>\n",
       "      <td>536365</td>\n",
       "      <td>84406B</td>\n",
       "      <td>CREAM CUPID HEARTS COAT HANGER</td>\n",
       "      <td>United Kingdom</td>\n",
       "    </tr>\n",
       "    <tr>\n",
       "      <th>3</th>\n",
       "      <td>536365</td>\n",
       "      <td>84029G</td>\n",
       "      <td>KNITTED UNION FLAG HOT WATER BOTTLE</td>\n",
       "      <td>United Kingdom</td>\n",
       "    </tr>\n",
       "    <tr>\n",
       "      <th>4</th>\n",
       "      <td>536365</td>\n",
       "      <td>84029E</td>\n",
       "      <td>RED WOOLLY HOTTIE WHITE HEART.</td>\n",
       "      <td>United Kingdom</td>\n",
       "    </tr>\n",
       "  </tbody>\n",
       "</table>\n",
       "</div>"
      ],
      "text/plain": [
       "  invoice_no stock_code                          description         country\n",
       "0     536365     85123A   WHITE HANGING HEART T-LIGHT HOLDER  United Kingdom\n",
       "1     536365      71053                  WHITE METAL LANTERN  United Kingdom\n",
       "2     536365     84406B       CREAM CUPID HEARTS COAT HANGER  United Kingdom\n",
       "3     536365     84029G  KNITTED UNION FLAG HOT WATER BOTTLE  United Kingdom\n",
       "4     536365     84029E       RED WOOLLY HOTTIE WHITE HEART.  United Kingdom"
      ]
     },
     "execution_count": 18,
     "metadata": {},
     "output_type": "execute_result"
    }
   ],
   "source": [
    "cat_attributes.head()"
   ]
  },
  {
   "cell_type": "markdown",
   "id": "61b6dd09",
   "metadata": {},
   "source": [
    "### invoice_no"
   ]
  },
  {
   "cell_type": "code",
   "execution_count": 19,
   "id": "b17ca16d",
   "metadata": {
    "ExecuteTime": {
     "end_time": "2022-03-21T20:19:49.186530Z",
     "start_time": "2022-03-21T20:19:46.344677Z"
    }
   },
   "outputs": [
    {
     "name": "stdout",
     "output_type": "stream",
     "text": [
      "Total number of invoices: 9291\n",
      "Total number of negative quantity: 9288\n"
     ]
    }
   ],
   "source": [
    "#Indentificamos que possui letras em colunos de id e codigo, vamos identificar a quantidade\n",
    "#cat_attributes['invoice_no'].astype( int )\n",
    "#Indentificamos que possui invoice_no com letras, precisamos saber quantos são para avaliar se é padrão ou sujeira\n",
    "#len(cat_attributes.loc[cat_attributes['invoice_no'].apply( lambda x: bool (re.search('[^0-9]+', x ))), 'invoice_no'].drop_duplicates())\n",
    "df_letter_invoices = df1.loc[df1['invoice_no'].apply( lambda x: bool (re.search('[^0-9]+', x ))),:]\n",
    "#checar se todos os invoice_no com letras possuiem quantity negativa\n",
    "print( 'Total number of invoices: {}'.format( len( df_letter_invoices ) ) )\n",
    "print( 'Total number of negative quantity: {}'.format( len( df_letter_invoices[ df_letter_invoices['quantity'] < 0 ] ) ) )"
   ]
  },
  {
   "cell_type": "markdown",
   "id": "0627839a",
   "metadata": {
    "ExecuteTime": {
     "end_time": "2022-03-16T20:56:51.297829Z",
     "start_time": "2022-03-16T20:56:51.281705Z"
    }
   },
   "source": [
    "### stock_code"
   ]
  },
  {
   "cell_type": "code",
   "execution_count": 19,
   "id": "56050839",
   "metadata": {
    "ExecuteTime": {
     "end_time": "2022-03-18T11:31:47.387657Z",
     "start_time": "2022-03-18T11:31:44.356153Z"
    }
   },
   "outputs": [
    {
     "data": {
      "text/plain": [
       "array(['POST', 'D', 'DOT', 'M', 'S', 'AMAZONFEE', 'm', 'DCGSSBOY',\n",
       "       'DCGSSGIRL', 'PADS', 'B', 'CRUK'], dtype=object)"
      ]
     },
     "execution_count": 19,
     "metadata": {},
     "output_type": "execute_result"
    }
   ],
   "source": [
    "#stock code\n",
    "#selecionar apenas o stock_code com letras e sem número. \n",
    "df1.loc[cat_attributes['stock_code'].apply( lambda x: bool( re.search('^[a-zA-Z]+$', x))), 'stock_code'].unique()\n",
    "\n",
    "#Ação\n",
    "##1. Remove stock_code in ['POST', 'D', 'DOT', 'M', 'S', 'AMAZONFEE', 'm', 'DCGSSBOY',\n",
    "#       'DCGSSGIRL', 'PADS', 'B', 'CRUK']\n"
   ]
  },
  {
   "cell_type": "markdown",
   "id": "b45a89ff",
   "metadata": {},
   "source": [
    "### description"
   ]
  },
  {
   "cell_type": "code",
   "execution_count": 20,
   "id": "88b4d05a",
   "metadata": {
    "ExecuteTime": {
     "end_time": "2022-03-21T20:20:19.576620Z",
     "start_time": "2022-03-21T20:20:19.547507Z"
    }
   },
   "outputs": [
    {
     "data": {
      "text/html": [
       "<div>\n",
       "<style scoped>\n",
       "    .dataframe tbody tr th:only-of-type {\n",
       "        vertical-align: middle;\n",
       "    }\n",
       "\n",
       "    .dataframe tbody tr th {\n",
       "        vertical-align: top;\n",
       "    }\n",
       "\n",
       "    .dataframe thead th {\n",
       "        text-align: right;\n",
       "    }\n",
       "</style>\n",
       "<table border=\"1\" class=\"dataframe\">\n",
       "  <thead>\n",
       "    <tr style=\"text-align: right;\">\n",
       "      <th></th>\n",
       "      <th>invoice_no</th>\n",
       "      <th>stock_code</th>\n",
       "      <th>description</th>\n",
       "      <th>quantity</th>\n",
       "      <th>invoice_date</th>\n",
       "      <th>unit_price</th>\n",
       "      <th>country</th>\n",
       "      <th>customer_id</th>\n",
       "    </tr>\n",
       "  </thead>\n",
       "  <tbody>\n",
       "    <tr>\n",
       "      <th>0</th>\n",
       "      <td>536365</td>\n",
       "      <td>85123A</td>\n",
       "      <td>WHITE HANGING HEART T-LIGHT HOLDER</td>\n",
       "      <td>6</td>\n",
       "      <td>2016-11-29</td>\n",
       "      <td>2.55</td>\n",
       "      <td>United Kingdom</td>\n",
       "      <td>17850</td>\n",
       "    </tr>\n",
       "    <tr>\n",
       "      <th>1</th>\n",
       "      <td>536365</td>\n",
       "      <td>71053</td>\n",
       "      <td>WHITE METAL LANTERN</td>\n",
       "      <td>6</td>\n",
       "      <td>2016-11-29</td>\n",
       "      <td>3.39</td>\n",
       "      <td>United Kingdom</td>\n",
       "      <td>17850</td>\n",
       "    </tr>\n",
       "    <tr>\n",
       "      <th>2</th>\n",
       "      <td>536365</td>\n",
       "      <td>84406B</td>\n",
       "      <td>CREAM CUPID HEARTS COAT HANGER</td>\n",
       "      <td>8</td>\n",
       "      <td>2016-11-29</td>\n",
       "      <td>2.75</td>\n",
       "      <td>United Kingdom</td>\n",
       "      <td>17850</td>\n",
       "    </tr>\n",
       "    <tr>\n",
       "      <th>3</th>\n",
       "      <td>536365</td>\n",
       "      <td>84029G</td>\n",
       "      <td>KNITTED UNION FLAG HOT WATER BOTTLE</td>\n",
       "      <td>6</td>\n",
       "      <td>2016-11-29</td>\n",
       "      <td>3.39</td>\n",
       "      <td>United Kingdom</td>\n",
       "      <td>17850</td>\n",
       "    </tr>\n",
       "    <tr>\n",
       "      <th>4</th>\n",
       "      <td>536365</td>\n",
       "      <td>84029E</td>\n",
       "      <td>RED WOOLLY HOTTIE WHITE HEART.</td>\n",
       "      <td>6</td>\n",
       "      <td>2016-11-29</td>\n",
       "      <td>3.39</td>\n",
       "      <td>United Kingdom</td>\n",
       "      <td>17850</td>\n",
       "    </tr>\n",
       "  </tbody>\n",
       "</table>\n",
       "</div>"
      ],
      "text/plain": [
       "  invoice_no stock_code                          description  quantity  \\\n",
       "0     536365     85123A   WHITE HANGING HEART T-LIGHT HOLDER         6   \n",
       "1     536365      71053                  WHITE METAL LANTERN         6   \n",
       "2     536365     84406B       CREAM CUPID HEARTS COAT HANGER         8   \n",
       "3     536365     84029G  KNITTED UNION FLAG HOT WATER BOTTLE         6   \n",
       "4     536365     84029E       RED WOOLLY HOTTIE WHITE HEART.         6   \n",
       "\n",
       "  invoice_date  unit_price         country  customer_id  \n",
       "0   2016-11-29        2.55  United Kingdom        17850  \n",
       "1   2016-11-29        3.39  United Kingdom        17850  \n",
       "2   2016-11-29        2.75  United Kingdom        17850  \n",
       "3   2016-11-29        3.39  United Kingdom        17850  \n",
       "4   2016-11-29        3.39  United Kingdom        17850  "
      ]
     },
     "execution_count": 20,
     "metadata": {},
     "output_type": "execute_result"
    }
   ],
   "source": [
    "df1.head()\n",
    "\n",
    "#Ação: Delete Description"
   ]
  },
  {
   "cell_type": "markdown",
   "id": "f7dc22d2",
   "metadata": {},
   "source": [
    "### country"
   ]
  },
  {
   "cell_type": "code",
   "execution_count": 21,
   "id": "9511f3e8",
   "metadata": {
    "ExecuteTime": {
     "end_time": "2022-03-21T20:20:46.209924Z",
     "start_time": "2022-03-21T20:20:46.154339Z"
    }
   },
   "outputs": [
    {
     "data": {
      "text/plain": [
       "array(['United Kingdom', 'France', 'Australia', 'Netherlands', 'Germany',\n",
       "       'Norway', 'EIRE', 'Switzerland', 'Spain', 'Poland', 'Portugal',\n",
       "       'Italy', 'Belgium', 'Lithuania', 'Japan', 'Iceland',\n",
       "       'Channel Islands', 'Denmark', 'Cyprus', 'Sweden', 'Austria',\n",
       "       'Israel', 'Finland', 'Bahrain', 'Greece', 'Hong Kong', 'Singapore',\n",
       "       'Lebanon', 'United Arab Emirates', 'Saudi Arabia',\n",
       "       'Czech Republic', 'Canada', 'Unspecified', 'Brazil', 'USA',\n",
       "       'European Community', 'Malta', 'RSA'], dtype=object)"
      ]
     },
     "execution_count": 21,
     "metadata": {},
     "output_type": "execute_result"
    }
   ],
   "source": [
    "df1['country'].unique()"
   ]
  },
  {
   "cell_type": "code",
   "execution_count": 22,
   "id": "dbd53469",
   "metadata": {
    "ExecuteTime": {
     "end_time": "2022-03-18T11:31:47.513346Z",
     "start_time": "2022-03-18T11:31:47.457282Z"
    }
   },
   "outputs": [
    {
     "data": {
      "text/plain": [
       "country             \n",
       "United Kingdom          0.914320\n",
       "Germany                 0.017521\n",
       "France                  0.015790\n",
       "EIRE                    0.015124\n",
       "Spain                   0.004674\n",
       "Netherlands             0.004375\n",
       "Belgium                 0.003818\n",
       "Switzerland             0.003694\n",
       "Portugal                0.002803\n",
       "Australia               0.002323\n",
       "Norway                  0.002004\n",
       "Italy                   0.001482\n",
       "Channel Islands         0.001399\n",
       "Finland                 0.001283\n",
       "Cyprus                  0.001148\n",
       "Sweden                  0.000853\n",
       "Unspecified             0.000823\n",
       "Austria                 0.000740\n",
       "Denmark                 0.000718\n",
       "Japan                   0.000661\n",
       "Poland                  0.000629\n",
       "Israel                  0.000548\n",
       "USA                     0.000537\n",
       "Hong Kong               0.000531\n",
       "Singapore               0.000423\n",
       "Iceland                 0.000336\n",
       "Canada                  0.000279\n",
       "Greece                  0.000269\n",
       "Malta                   0.000234\n",
       "United Arab Emirates    0.000125\n",
       "European Community      0.000113\n",
       "RSA                     0.000107\n",
       "Lebanon                 0.000083\n",
       "Lithuania               0.000065\n",
       "Brazil                  0.000059\n",
       "Czech Republic          0.000055\n",
       "Bahrain                 0.000035\n",
       "Saudi Arabia            0.000018\n",
       "dtype: float64"
      ]
     },
     "execution_count": 22,
     "metadata": {},
     "output_type": "execute_result"
    }
   ],
   "source": [
    "df1[['country']].value_counts(normalize=True)"
   ]
  },
  {
   "cell_type": "code",
   "execution_count": 22,
   "id": "383cfed1",
   "metadata": {
    "ExecuteTime": {
     "end_time": "2022-03-21T20:21:01.666536Z",
     "start_time": "2022-03-21T20:21:01.524143Z"
    }
   },
   "outputs": [
    {
     "data": {
      "text/html": [
       "<div>\n",
       "<style scoped>\n",
       "    .dataframe tbody tr th:only-of-type {\n",
       "        vertical-align: middle;\n",
       "    }\n",
       "\n",
       "    .dataframe tbody tr th {\n",
       "        vertical-align: top;\n",
       "    }\n",
       "\n",
       "    .dataframe thead th {\n",
       "        text-align: right;\n",
       "    }\n",
       "</style>\n",
       "<table border=\"1\" class=\"dataframe\">\n",
       "  <thead>\n",
       "    <tr style=\"text-align: right;\">\n",
       "      <th></th>\n",
       "      <th>country</th>\n",
       "      <th>customer_id</th>\n",
       "    </tr>\n",
       "  </thead>\n",
       "  <tbody>\n",
       "    <tr>\n",
       "      <th>0</th>\n",
       "      <td>United Kingdom</td>\n",
       "      <td>7587</td>\n",
       "    </tr>\n",
       "    <tr>\n",
       "      <th>1</th>\n",
       "      <td>Germany</td>\n",
       "      <td>95</td>\n",
       "    </tr>\n",
       "    <tr>\n",
       "      <th>2</th>\n",
       "      <td>France</td>\n",
       "      <td>90</td>\n",
       "    </tr>\n",
       "    <tr>\n",
       "      <th>3</th>\n",
       "      <td>EIRE</td>\n",
       "      <td>44</td>\n",
       "    </tr>\n",
       "    <tr>\n",
       "      <th>4</th>\n",
       "      <td>Spain</td>\n",
       "      <td>31</td>\n",
       "    </tr>\n",
       "  </tbody>\n",
       "</table>\n",
       "</div>"
      ],
      "text/plain": [
       "          country  customer_id\n",
       "0  United Kingdom         7587\n",
       "1         Germany           95\n",
       "2          France           90\n",
       "3            EIRE           44\n",
       "4           Spain           31"
      ]
     },
     "execution_count": 22,
     "metadata": {},
     "output_type": "execute_result"
    }
   ],
   "source": [
    "df1[['customer_id', 'country']].drop_duplicates().groupby( 'country' ).count().sort_values('customer_id', ascending = False ).reset_index().head() \n"
   ]
  },
  {
   "cell_type": "markdown",
   "id": "c1479f6e",
   "metadata": {},
   "source": [
    "> Ao analisar os categoricals atributes, conseguimos perceber que alguns dados estão com informações que não se sabe o significado.\n",
    "\n",
    "> No caso da invoice_no, percebe-se que todos os dados que possuem alguma letra nesta coluna, possuem quantity negativa, assim sera removido todos estes. \n",
    "\n",
    "> A variável description não indicar nada para nosso modelo, então iremos remover esta feature. "
   ]
  },
  {
   "cell_type": "markdown",
   "id": "bc7130b2",
   "metadata": {},
   "source": [
    "# 2.0. Data Filtering"
   ]
  },
  {
   "cell_type": "code",
   "execution_count": 24,
   "id": "5281c6b8",
   "metadata": {
    "ExecuteTime": {
     "end_time": "2022-03-21T20:22:05.936544Z",
     "start_time": "2022-03-21T20:22:05.908292Z"
    }
   },
   "outputs": [],
   "source": [
    "df2 = df1.copy()"
   ]
  },
  {
   "cell_type": "code",
   "execution_count": 25,
   "id": "7865b5d7",
   "metadata": {
    "ExecuteTime": {
     "end_time": "2022-03-21T20:22:07.446849Z",
     "start_time": "2022-03-21T20:22:07.156019Z"
    }
   },
   "outputs": [],
   "source": [
    "# =========Numerical Attributes==============\n",
    "\n",
    "#unity_price\n",
    "#vamos considerar os preços acima de 0.04, a baixo é pouco relevante. \n",
    "df2 = df2.loc[df2['unit_price'] >= 0.04, : ]\n",
    "\n",
    "# =========categorical Attributes==============\n",
    "#stock_code : remover todos os stock_code sem números\n",
    "df2 = df2[~df2['stock_code'].isin( ['POST', 'D', 'DOT', 'M', 'S', 'AMAZONFEE', 'm', 'DCGSSBOY','DCGSSGIRL', 'PADS', 'B', 'CRUK'] ) ] \n",
    "\n",
    "# description\n",
    "df2 = df2.drop( columns='description', axis=1 )\n",
    "\n",
    "#contry: removeremos o European communnity  e mudaremos alguns nomes, para podermos usar uma tabela de zip code encodar.\n",
    "df2 = df2[~df2['country'].isin(['European Community', 'Unspecified'])]\n",
    "\n",
    "\n",
    "# bad users\n",
    "df2 = df2[~df2['customer_id'].isin( [16446] )]\n",
    "\n",
    "#quantity : Iremos separar em dois df, um com os quantitties negativos e outro com os quantitys positivos. \n",
    "df2_returns = df2.loc[df1['quantity'] < 0, :]\n",
    "df2_purchases = df2.loc[df1['quantity'] >= 0, : ]"
   ]
  },
  {
   "cell_type": "code",
   "execution_count": 26,
   "id": "772977ae",
   "metadata": {
    "ExecuteTime": {
     "end_time": "2022-03-21T20:22:09.780488Z",
     "start_time": "2022-03-21T20:22:09.603250Z"
    }
   },
   "outputs": [
    {
     "data": {
      "text/html": [
       "<div>\n",
       "<style scoped>\n",
       "    .dataframe tbody tr th:only-of-type {\n",
       "        vertical-align: middle;\n",
       "    }\n",
       "\n",
       "    .dataframe tbody tr th {\n",
       "        vertical-align: top;\n",
       "    }\n",
       "\n",
       "    .dataframe thead th {\n",
       "        text-align: right;\n",
       "    }\n",
       "</style>\n",
       "<table border=\"1\" class=\"dataframe\">\n",
       "  <thead>\n",
       "    <tr style=\"text-align: right;\">\n",
       "      <th></th>\n",
       "      <th>customer_id</th>\n",
       "      <th>description</th>\n",
       "      <th>unit_price</th>\n",
       "    </tr>\n",
       "  </thead>\n",
       "  <tbody>\n",
       "    <tr>\n",
       "      <th>299984</th>\n",
       "      <td>21499</td>\n",
       "      <td>Adjust bad debt</td>\n",
       "      <td>-11062.06</td>\n",
       "    </tr>\n",
       "    <tr>\n",
       "      <th>299983</th>\n",
       "      <td>21498</td>\n",
       "      <td>Adjust bad debt</td>\n",
       "      <td>-11062.06</td>\n",
       "    </tr>\n",
       "    <tr>\n",
       "      <th>40984</th>\n",
       "      <td>19296</td>\n",
       "      <td>TRAVEL SEWING KIT</td>\n",
       "      <td>0.00</td>\n",
       "    </tr>\n",
       "    <tr>\n",
       "      <th>52217</th>\n",
       "      <td>19385</td>\n",
       "      <td>NaN</td>\n",
       "      <td>0.00</td>\n",
       "    </tr>\n",
       "    <tr>\n",
       "      <th>52262</th>\n",
       "      <td>19386</td>\n",
       "      <td>NaN</td>\n",
       "      <td>0.00</td>\n",
       "    </tr>\n",
       "    <tr>\n",
       "      <th>344867</th>\n",
       "      <td>21735</td>\n",
       "      <td>Damaged</td>\n",
       "      <td>0.00</td>\n",
       "    </tr>\n",
       "    <tr>\n",
       "      <th>204945</th>\n",
       "      <td>20760</td>\n",
       "      <td>NaN</td>\n",
       "      <td>0.00</td>\n",
       "    </tr>\n",
       "    <tr>\n",
       "      <th>104419</th>\n",
       "      <td>19743</td>\n",
       "      <td>PORCELAIN BUTTERFLY OIL BURNER</td>\n",
       "      <td>0.00</td>\n",
       "    </tr>\n",
       "    <tr>\n",
       "      <th>104418</th>\n",
       "      <td>19743</td>\n",
       "      <td>BLUE POLKADOT PASSPORT COVER</td>\n",
       "      <td>0.00</td>\n",
       "    </tr>\n",
       "    <tr>\n",
       "      <th>115488</th>\n",
       "      <td>19819</td>\n",
       "      <td>Thrown away.</td>\n",
       "      <td>0.00</td>\n",
       "    </tr>\n",
       "  </tbody>\n",
       "</table>\n",
       "</div>"
      ],
      "text/plain": [
       "        customer_id                     description  unit_price\n",
       "299984        21499                 Adjust bad debt   -11062.06\n",
       "299983        21498                 Adjust bad debt   -11062.06\n",
       "40984         19296               TRAVEL SEWING KIT        0.00\n",
       "52217         19385                             NaN        0.00\n",
       "52262         19386                             NaN        0.00\n",
       "344867        21735                         Damaged        0.00\n",
       "204945        20760                             NaN        0.00\n",
       "104419        19743  PORCELAIN BUTTERFLY OIL BURNER        0.00\n",
       "104418        19743    BLUE POLKADOT PASSPORT COVER        0.00\n",
       "115488        19819                    Thrown away.        0.00"
      ]
     },
     "execution_count": 26,
     "metadata": {},
     "output_type": "execute_result"
    }
   ],
   "source": [
    "df1[['customer_id', 'description', 'unit_price']].sort_values('unit_price', ascending = True ).head(10)"
   ]
  },
  {
   "cell_type": "markdown",
   "id": "4822f52c",
   "metadata": {},
   "source": [
    "# 3.0. Feature Engeneering"
   ]
  },
  {
   "cell_type": "code",
   "execution_count": 136,
   "id": "880433e9",
   "metadata": {
    "ExecuteTime": {
     "end_time": "2022-03-21T22:44:17.039121Z",
     "start_time": "2022-03-21T22:44:17.015240Z"
    }
   },
   "outputs": [],
   "source": [
    "df3 = df2.copy()"
   ]
  },
  {
   "cell_type": "markdown",
   "id": "f9248e58",
   "metadata": {},
   "source": [
    "## 3.1. Feature Creation"
   ]
  },
  {
   "cell_type": "code",
   "execution_count": 137,
   "id": "5767b4a6",
   "metadata": {
    "ExecuteTime": {
     "end_time": "2022-03-21T22:44:17.852670Z",
     "start_time": "2022-03-21T22:44:17.806690Z"
    }
   },
   "outputs": [],
   "source": [
    "#data reference\n",
    "df_ref = df3.drop(['invoice_no', 'stock_code','quantity','unit_price','invoice_date','country'], axis = 1).drop_duplicates(ignore_index = True )\n"
   ]
  },
  {
   "cell_type": "markdown",
   "id": "f3bba82d",
   "metadata": {},
   "source": [
    "### 3.1.1 Gross Revenue"
   ]
  },
  {
   "cell_type": "code",
   "execution_count": 138,
   "id": "8397dc4d",
   "metadata": {
    "ExecuteTime": {
     "end_time": "2022-03-21T22:44:18.855528Z",
     "start_time": "2022-03-21T22:44:18.774286Z"
    }
   },
   "outputs": [
    {
     "data": {
      "text/plain": [
       "customer_id       0\n",
       "gross_revenue    91\n",
       "dtype: int64"
      ]
     },
     "execution_count": 138,
     "metadata": {},
     "output_type": "execute_result"
    }
   ],
   "source": [
    "# Gross Revenue ( Faturamento ) quanty * price \n",
    "df2_purchases.loc[:, 'gross_revenue'] = df2_purchases.loc[:,  'quantity' ] * df2_purchases.loc[:, 'unit_price' ]\n",
    "\n",
    "# Monetary \n",
    "df_monetary = df2_purchases.loc[:, ['customer_id', 'gross_revenue']].groupby( 'customer_id').sum().reset_index()\n",
    "df_ref = pd.merge( df_ref, df_monetary, on = 'customer_id', how= 'left')\n",
    "df_ref.isna().sum()"
   ]
  },
  {
   "cell_type": "markdown",
   "id": "5358ce33",
   "metadata": {},
   "source": [
    "### 3.1.2 Recency - Day from last puschase"
   ]
  },
  {
   "cell_type": "code",
   "execution_count": 139,
   "id": "0f1c8157",
   "metadata": {
    "ExecuteTime": {
     "end_time": "2022-03-21T22:44:20.055353Z",
     "start_time": "2022-03-21T22:44:19.972763Z"
    }
   },
   "outputs": [
    {
     "data": {
      "text/plain": [
       "customer_id       0\n",
       "gross_revenue    91\n",
       "recency_days     91\n",
       "dtype: int64"
      ]
     },
     "execution_count": 139,
     "metadata": {},
     "output_type": "execute_result"
    }
   ],
   "source": [
    "# Recency - Last day purchase\n",
    "df_recency = df2_purchases.loc[:,['customer_id', 'invoice_date']].groupby( 'customer_id').max().reset_index()\n",
    "df_recency['recency_days'] = (df2_purchases['invoice_date'].max() - df_recency['invoice_date'] ).dt.days\n",
    "df_recency = df_recency[['customer_id', 'recency_days']].copy()\n",
    "df_ref = pd.merge(df_ref, df_recency, on = 'customer_id', how = 'left' )\n",
    "df_ref.isna().sum()"
   ]
  },
  {
   "cell_type": "markdown",
   "id": "e054d3d2",
   "metadata": {},
   "source": [
    "### 3.1.3 Quantity of purchased\n",
    "quantas vezes o consumidor foi e comprou"
   ]
  },
  {
   "cell_type": "code",
   "execution_count": 140,
   "id": "d3356ffc",
   "metadata": {
    "ExecuteTime": {
     "end_time": "2022-03-21T22:44:20.998253Z",
     "start_time": "2022-03-21T22:44:20.845002Z"
    }
   },
   "outputs": [
    {
     "data": {
      "text/plain": [
       "customer_id       0\n",
       "gross_revenue    91\n",
       "recency_days     91\n",
       "qtde_invoices    91\n",
       "dtype: int64"
      ]
     },
     "execution_count": 140,
     "metadata": {},
     "output_type": "execute_result"
    }
   ],
   "source": [
    "#Numero de produtos\n",
    "df_freq = df2_purchases.loc[:, ['customer_id', 'invoice_no']].drop_duplicates().groupby( 'customer_id').count().reset_index().rename( columns = {'invoice_no': 'qtde_invoices'})\n",
    "df_ref = pd.merge(df_ref, df_freq, on = 'customer_id', how = 'left' )\n",
    "df_ref.isna().sum()"
   ]
  },
  {
   "cell_type": "markdown",
   "id": "69e51a19",
   "metadata": {},
   "source": [
    "### 3.1.4 Quantity of items purchased\n",
    "Quantidade de produtos na cesta"
   ]
  },
  {
   "cell_type": "code",
   "execution_count": 141,
   "id": "2f18451f",
   "metadata": {
    "ExecuteTime": {
     "end_time": "2022-03-21T22:44:22.027168Z",
     "start_time": "2022-03-21T22:44:21.948880Z"
    }
   },
   "outputs": [
    {
     "data": {
      "text/plain": [
       "customer_id       0\n",
       "gross_revenue    91\n",
       "recency_days     91\n",
       "qtde_invoices    91\n",
       "qtde_items       91\n",
       "dtype: int64"
      ]
     },
     "execution_count": 141,
     "metadata": {},
     "output_type": "execute_result"
    }
   ],
   "source": [
    "#Numero de produtos\n",
    "df_freq = df2_purchases.loc[:, ['customer_id', 'quantity']].groupby( 'customer_id').sum().reset_index().rename(columns = {'quantity': 'qtde_items'})\n",
    "df_ref = pd.merge(df_ref, df_freq, on = 'customer_id', how = 'left' )\n",
    "df_ref.isna().sum()"
   ]
  },
  {
   "cell_type": "markdown",
   "id": "aa077524",
   "metadata": {
    "ExecuteTime": {
     "end_time": "2022-03-21T22:38:34.501732Z",
     "start_time": "2022-03-21T22:38:34.491025Z"
    }
   },
   "source": [
    "### 3.1.5 Quantity of products purchased"
   ]
  },
  {
   "cell_type": "code",
   "execution_count": 142,
   "id": "83d64fad",
   "metadata": {
    "ExecuteTime": {
     "end_time": "2022-03-21T22:44:23.117858Z",
     "start_time": "2022-03-21T22:44:22.974155Z"
    }
   },
   "outputs": [
    {
     "data": {
      "text/plain": [
       "customer_id       0\n",
       "gross_revenue    91\n",
       "recency_days     91\n",
       "qtde_invoices    91\n",
       "qtde_items       91\n",
       "qtde_products    91\n",
       "dtype: int64"
      ]
     },
     "execution_count": 142,
     "metadata": {},
     "output_type": "execute_result"
    }
   ],
   "source": [
    "#Numero de produtos\n",
    "df_freq = df2_purchases.loc[:, ['customer_id', 'stock_code']].groupby( 'customer_id').count().reset_index().rename(columns = {'stock_code': 'qtde_products'})\n",
    "df_ref = pd.merge(df_ref, df_freq, on = 'customer_id', how = 'left' )\n",
    "df_ref.isna().sum()"
   ]
  },
  {
   "cell_type": "markdown",
   "id": "ae0ec1f1",
   "metadata": {},
   "source": [
    "### 3.1.5 Avarenge Ticket Value"
   ]
  },
  {
   "cell_type": "code",
   "execution_count": 143,
   "id": "08e40ecb",
   "metadata": {
    "ExecuteTime": {
     "end_time": "2022-03-21T22:44:24.264370Z",
     "start_time": "2022-03-21T22:44:24.190352Z"
    }
   },
   "outputs": [
    {
     "data": {
      "text/plain": [
       "customer_id       0\n",
       "gross_revenue    91\n",
       "recency_days     91\n",
       "qtde_invoices    91\n",
       "qtde_items       91\n",
       "qtde_products    91\n",
       "avg_ticket       91\n",
       "dtype: int64"
      ]
     },
     "execution_count": 143,
     "metadata": {},
     "output_type": "execute_result"
    }
   ],
   "source": [
    "#Avg Ticket\n",
    "df_avg_ticket = df2_purchases.loc[:, ['customer_id', 'gross_revenue']].groupby( 'customer_id' ).mean().reset_index().rename( columns = {'gross_revenue' : 'avg_ticket'})\n",
    "df_ref = pd.merge( df_ref, df_avg_ticket, on='customer_id', how = 'left')\n",
    "df_ref.isna().sum()"
   ]
  },
  {
   "cell_type": "markdown",
   "id": "e92b662d",
   "metadata": {},
   "source": [
    "### 3.1.6 Avarenge Recency Days\n",
    "media de preço entre as compras"
   ]
  },
  {
   "cell_type": "code",
   "execution_count": 144,
   "id": "0de4a520",
   "metadata": {
    "ExecuteTime": {
     "end_time": "2022-03-21T22:44:25.978529Z",
     "start_time": "2022-03-21T22:44:25.286926Z"
    }
   },
   "outputs": [
    {
     "data": {
      "text/plain": [
       "customer_id            0\n",
       "gross_revenue         91\n",
       "recency_days          91\n",
       "qtde_invoices         91\n",
       "qtde_items            91\n",
       "qtde_products         91\n",
       "avg_ticket            91\n",
       "avg_recency_days    2816\n",
       "dtype: int64"
      ]
     },
     "execution_count": 144,
     "metadata": {},
     "output_type": "execute_result"
    }
   ],
   "source": [
    "#Avarage recency days\n",
    "df_aux = df3[['customer_id', 'invoice_date']].drop_duplicates().sort_values( ['customer_id', 'invoice_date'], ascending=[False, False ])\n",
    "df_aux['next_customer_id'] = df_aux['customer_id'].shift() #next customer\n",
    "df_aux['previous_date'] = df_aux['invoice_date'].shift()# previous invoince date\n",
    "\n",
    "df_aux['avg_recency_days'] = df_aux.apply( lambda x: (x['previous_date'] - x['invoice_date']).days if x['customer_id'] == x['next_customer_id'] else np.nan, axis = 1)\n",
    "df_aux = df_aux.drop( [ 'invoice_date', 'next_customer_id', 'previous_date'], axis = 1).dropna()\n",
    "\n",
    "#avarage recency\n",
    "df_avg_recency_days = df_aux.groupby('customer_id').mean().reset_index()\n",
    "\n",
    "#merge\n",
    "df_ref = pd.merge( df_ref, df_avg_recency_days, on= 'customer_id', how='left' )\n",
    "\n",
    "df_ref.isna().sum()"
   ]
  },
  {
   "cell_type": "markdown",
   "id": "ddfe0c06",
   "metadata": {},
   "source": [
    "### 3.1.7 Frequency Purchase"
   ]
  },
  {
   "cell_type": "code",
   "execution_count": 145,
   "id": "79a2e8fb",
   "metadata": {
    "ExecuteTime": {
     "end_time": "2022-03-21T22:44:28.683642Z",
     "start_time": "2022-03-21T22:44:27.317882Z"
    }
   },
   "outputs": [
    {
     "data": {
      "text/plain": [
       "customer_id            0\n",
       "gross_revenue         91\n",
       "recency_days          91\n",
       "qtde_invoices         91\n",
       "qtde_items            91\n",
       "qtde_products         91\n",
       "avg_ticket            91\n",
       "avg_recency_days    2816\n",
       "frequency              0\n",
       "dtype: int64"
      ]
     },
     "execution_count": 145,
     "metadata": {},
     "output_type": "execute_result"
    }
   ],
   "source": [
    "df_aux = (df3[['customer_id','invoice_no', 'invoice_date']].drop_duplicates()\n",
    "                                                           .groupby( 'customer_id' )\n",
    "                                                           .agg( max_  = ('invoice_date', 'max'),\n",
    "                                                                 min_  = ('invoice_date', 'min'),\n",
    "                                                                 days_ = ('invoice_date', lambda x: (x.max() - x.min()).days + 1),\n",
    "                                                                 buy_  = ('invoice_no', 'count'))).reset_index()\n",
    "\n",
    "#Frequency\n",
    "df_aux['frequency'] = df_aux[['buy_', 'days_']].apply( lambda x: x['buy_'] / x['days_'] if x['days_']!= 0 else 0, axis = 1 )\n",
    "\n",
    "#Merge\n",
    "df_ref = pd.merge( df_ref, df_aux[['customer_id', 'frequency']], on = 'customer_id', how = 'left' )\n",
    "df_ref.isna().sum()"
   ]
  },
  {
   "cell_type": "markdown",
   "id": "e0cdc648",
   "metadata": {},
   "source": [
    "### 3.1.8 Number of Returns\n",
    "Quantos retornos de compra por pessoas. "
   ]
  },
  {
   "cell_type": "code",
   "execution_count": 146,
   "id": "da3db6ca",
   "metadata": {
    "ExecuteTime": {
     "end_time": "2022-03-21T22:44:28.717517Z",
     "start_time": "2022-03-21T22:44:28.687723Z"
    }
   },
   "outputs": [
    {
     "data": {
      "text/plain": [
       "customer_id            0\n",
       "gross_revenue         91\n",
       "recency_days          91\n",
       "qtde_invoices         91\n",
       "qtde_items            91\n",
       "qtde_products         91\n",
       "avg_ticket            91\n",
       "avg_recency_days    2816\n",
       "frequency              0\n",
       "qtde_returns           0\n",
       "dtype: int64"
      ]
     },
     "execution_count": 146,
     "metadata": {},
     "output_type": "execute_result"
    }
   ],
   "source": [
    "# Number of Returns\n",
    "df_returns = df2_returns[['customer_id', 'quantity']].groupby('customer_id').sum().reset_index().rename( columns = {'quantity': 'qtde_returns'})\n",
    "df_returns['qtde_returns'] = df_returns['qtde_returns']*-1\n",
    "\n",
    "df_ref = pd.merge(df_ref, df_returns, how= 'left', on = 'customer_id')\n",
    "df_ref.loc[df_ref['qtde_returns'].isna(), 'qtde_returns'] = 0\n",
    "df_ref.isna().sum()\n"
   ]
  },
  {
   "cell_type": "markdown",
   "id": "9ca78062",
   "metadata": {},
   "source": [
    "### 3.1.9. Unique Basket Size - Quantidade de items por Cesta(Quantity)\n",
    "- Invoice No = Compra = Purchase = cesto\n",
    "- Stock Code = Produto\n",
    "- Quantity = Item"
   ]
  },
  {
   "cell_type": "code",
   "execution_count": 147,
   "id": "3243722d",
   "metadata": {
    "ExecuteTime": {
     "end_time": "2022-03-21T22:44:30.193887Z",
     "start_time": "2022-03-21T22:44:30.063883Z"
    }
   },
   "outputs": [
    {
     "data": {
      "text/plain": [
       "customer_id            0\n",
       "gross_revenue         91\n",
       "recency_days          91\n",
       "qtde_invoices         91\n",
       "qtde_items            91\n",
       "qtde_products         91\n",
       "avg_ticket            91\n",
       "avg_recency_days    2816\n",
       "frequency              0\n",
       "qtde_returns           0\n",
       "avg_basket_size       91\n",
       "dtype: int64"
      ]
     },
     "execution_count": 147,
     "metadata": {},
     "output_type": "execute_result"
    }
   ],
   "source": [
    "df_aux = (df2_purchases.loc[:,['customer_id', 'invoice_no', 'quantity']]\n",
    "          .groupby( 'customer_id')\n",
    "          .agg(n_purchase = ('invoice_no', 'nunique'), \n",
    "               n_products = ('quantity', 'sum')).reset_index() )\n",
    "\n",
    "#calculation\n",
    "df_aux['avg_basket_size'] = df_aux['n_products']/df_aux['n_purchase']\n",
    "\n",
    "\n",
    "#merge\n",
    "df_ref = pd.merge( df_ref, df_aux[['customer_id', 'avg_basket_size']], how='left', on = 'customer_id')\n",
    "df_ref.isna().sum()"
   ]
  },
  {
   "cell_type": "markdown",
   "id": "0e9cdc72",
   "metadata": {},
   "source": [
    "### 3.1.10. Basket Size - Quantidade de produtos distintos por compra"
   ]
  },
  {
   "cell_type": "code",
   "execution_count": 148,
   "id": "7a4dede1",
   "metadata": {
    "ExecuteTime": {
     "end_time": "2022-03-21T22:44:31.776930Z",
     "start_time": "2022-03-21T22:44:31.654908Z"
    }
   },
   "outputs": [
    {
     "data": {
      "text/plain": [
       "customer_id                  0\n",
       "gross_revenue               91\n",
       "recency_days                91\n",
       "qtde_invoices               91\n",
       "qtde_items                  91\n",
       "qtde_products               91\n",
       "avg_ticket                  91\n",
       "avg_recency_days          2816\n",
       "frequency                    0\n",
       "qtde_returns                 0\n",
       "avg_basket_size             91\n",
       "avg_unique_basket_size      91\n",
       "dtype: int64"
      ]
     },
     "execution_count": 148,
     "metadata": {},
     "output_type": "execute_result"
    }
   ],
   "source": [
    "df_aux = (df2_purchases.loc[:,['customer_id', 'invoice_no', 'stock_code']]\n",
    "          .groupby( 'customer_id')\n",
    "          .agg(n_purchase = ('invoice_no', 'nunique'), \n",
    "               n_products = ('stock_code', 'count')).reset_index() )\n",
    "df_aux.head()\n",
    "\n",
    "#calculation\n",
    "df_aux['avg_unique_basket_size'] = df_aux['n_products']/df_aux['n_purchase']\n",
    "df_aux.head()\n",
    "\n",
    "#merge\n",
    "df_ref = pd.merge( df_ref, df_aux[['customer_id', 'avg_unique_basket_size']], how='left', on = 'customer_id')\n",
    "df_ref.isna().sum()"
   ]
  },
  {
   "cell_type": "code",
   "execution_count": 149,
   "id": "1c6b6700",
   "metadata": {
    "ExecuteTime": {
     "end_time": "2022-03-21T22:44:32.565694Z",
     "start_time": "2022-03-21T22:44:32.520889Z"
    }
   },
   "outputs": [
    {
     "data": {
      "text/html": [
       "<div>\n",
       "<style scoped>\n",
       "    .dataframe tbody tr th:only-of-type {\n",
       "        vertical-align: middle;\n",
       "    }\n",
       "\n",
       "    .dataframe tbody tr th {\n",
       "        vertical-align: top;\n",
       "    }\n",
       "\n",
       "    .dataframe thead th {\n",
       "        text-align: right;\n",
       "    }\n",
       "</style>\n",
       "<table border=\"1\" class=\"dataframe\">\n",
       "  <thead>\n",
       "    <tr style=\"text-align: right;\">\n",
       "      <th></th>\n",
       "      <th>customer_id</th>\n",
       "      <th>gross_revenue</th>\n",
       "      <th>recency_days</th>\n",
       "      <th>qtde_invoices</th>\n",
       "      <th>qtde_items</th>\n",
       "      <th>qtde_products</th>\n",
       "      <th>avg_ticket</th>\n",
       "      <th>avg_recency_days</th>\n",
       "      <th>frequency</th>\n",
       "      <th>qtde_returns</th>\n",
       "      <th>avg_basket_size</th>\n",
       "      <th>avg_unique_basket_size</th>\n",
       "    </tr>\n",
       "  </thead>\n",
       "  <tbody>\n",
       "    <tr>\n",
       "      <th>0</th>\n",
       "      <td>17850</td>\n",
       "      <td>5391.21</td>\n",
       "      <td>372.0</td>\n",
       "      <td>34.0</td>\n",
       "      <td>1733.0</td>\n",
       "      <td>297.0</td>\n",
       "      <td>18.152222</td>\n",
       "      <td>35.500000</td>\n",
       "      <td>0.486111</td>\n",
       "      <td>40.0</td>\n",
       "      <td>50.970588</td>\n",
       "      <td>8.735294</td>\n",
       "    </tr>\n",
       "    <tr>\n",
       "      <th>1</th>\n",
       "      <td>13047</td>\n",
       "      <td>3232.59</td>\n",
       "      <td>56.0</td>\n",
       "      <td>9.0</td>\n",
       "      <td>1390.0</td>\n",
       "      <td>171.0</td>\n",
       "      <td>18.904035</td>\n",
       "      <td>27.250000</td>\n",
       "      <td>0.048780</td>\n",
       "      <td>35.0</td>\n",
       "      <td>154.444444</td>\n",
       "      <td>19.000000</td>\n",
       "    </tr>\n",
       "    <tr>\n",
       "      <th>2</th>\n",
       "      <td>12583</td>\n",
       "      <td>6705.38</td>\n",
       "      <td>2.0</td>\n",
       "      <td>15.0</td>\n",
       "      <td>5028.0</td>\n",
       "      <td>232.0</td>\n",
       "      <td>28.902500</td>\n",
       "      <td>23.187500</td>\n",
       "      <td>0.045699</td>\n",
       "      <td>50.0</td>\n",
       "      <td>335.200000</td>\n",
       "      <td>15.466667</td>\n",
       "    </tr>\n",
       "    <tr>\n",
       "      <th>3</th>\n",
       "      <td>13748</td>\n",
       "      <td>948.25</td>\n",
       "      <td>95.0</td>\n",
       "      <td>5.0</td>\n",
       "      <td>439.0</td>\n",
       "      <td>28.0</td>\n",
       "      <td>33.866071</td>\n",
       "      <td>92.666667</td>\n",
       "      <td>0.017921</td>\n",
       "      <td>0.0</td>\n",
       "      <td>87.800000</td>\n",
       "      <td>5.600000</td>\n",
       "    </tr>\n",
       "    <tr>\n",
       "      <th>4</th>\n",
       "      <td>15100</td>\n",
       "      <td>876.00</td>\n",
       "      <td>333.0</td>\n",
       "      <td>3.0</td>\n",
       "      <td>80.0</td>\n",
       "      <td>3.0</td>\n",
       "      <td>292.000000</td>\n",
       "      <td>8.600000</td>\n",
       "      <td>0.136364</td>\n",
       "      <td>22.0</td>\n",
       "      <td>26.666667</td>\n",
       "      <td>1.000000</td>\n",
       "    </tr>\n",
       "  </tbody>\n",
       "</table>\n",
       "</div>"
      ],
      "text/plain": [
       "   customer_id  gross_revenue  recency_days  qtde_invoices  qtde_items  \\\n",
       "0        17850        5391.21         372.0           34.0      1733.0   \n",
       "1        13047        3232.59          56.0            9.0      1390.0   \n",
       "2        12583        6705.38           2.0           15.0      5028.0   \n",
       "3        13748         948.25          95.0            5.0       439.0   \n",
       "4        15100         876.00         333.0            3.0        80.0   \n",
       "\n",
       "   qtde_products  avg_ticket  avg_recency_days  frequency  qtde_returns  \\\n",
       "0          297.0   18.152222         35.500000   0.486111          40.0   \n",
       "1          171.0   18.904035         27.250000   0.048780          35.0   \n",
       "2          232.0   28.902500         23.187500   0.045699          50.0   \n",
       "3           28.0   33.866071         92.666667   0.017921           0.0   \n",
       "4            3.0  292.000000          8.600000   0.136364          22.0   \n",
       "\n",
       "   avg_basket_size  avg_unique_basket_size  \n",
       "0        50.970588                8.735294  \n",
       "1       154.444444               19.000000  \n",
       "2       335.200000               15.466667  \n",
       "3        87.800000                5.600000  \n",
       "4        26.666667                1.000000  "
      ]
     },
     "execution_count": 149,
     "metadata": {},
     "output_type": "execute_result"
    }
   ],
   "source": [
    "df_ref.head()"
   ]
  },
  {
   "cell_type": "markdown",
   "id": "35c34f50",
   "metadata": {},
   "source": [
    "# 4.0. EDA(Exploratory Data Analysis)"
   ]
  },
  {
   "cell_type": "code",
   "execution_count": 150,
   "id": "6fd5ca92",
   "metadata": {
    "ExecuteTime": {
     "end_time": "2022-03-21T22:45:15.120773Z",
     "start_time": "2022-03-21T22:45:15.097517Z"
    }
   },
   "outputs": [
    {
     "data": {
      "text/plain": [
       "customer_id               0\n",
       "gross_revenue             0\n",
       "recency_days              0\n",
       "qtde_invoices             0\n",
       "qtde_items                0\n",
       "qtde_products             0\n",
       "avg_ticket                0\n",
       "avg_recency_days          0\n",
       "frequency                 0\n",
       "qtde_returns              0\n",
       "avg_basket_size           0\n",
       "avg_unique_basket_size    0\n",
       "dtype: int64"
      ]
     },
     "execution_count": 150,
     "metadata": {},
     "output_type": "execute_result"
    }
   ],
   "source": [
    "df4 = df_ref.dropna().copy()\n",
    "df4.isna().sum()"
   ]
  },
  {
   "cell_type": "markdown",
   "id": "082adf6d",
   "metadata": {},
   "source": [
    "## 4.1. Univariate Analysis"
   ]
  },
  {
   "cell_type": "code",
   "execution_count": 154,
   "id": "791ae2fd",
   "metadata": {
    "ExecuteTime": {
     "end_time": "2022-03-21T22:47:06.528475Z",
     "start_time": "2022-03-21T22:46:14.845808Z"
    }
   },
   "outputs": [
    {
     "data": {
      "application/vnd.jupyter.widget-view+json": {
       "model_id": "6725892cf57d44f9bed8086420849127",
       "version_major": 2,
       "version_minor": 0
      },
      "text/plain": [
       "Summarize dataset:   0%|          | 0/5 [00:00<?, ?it/s]"
      ]
     },
     "metadata": {},
     "output_type": "display_data"
    },
    {
     "data": {
      "application/vnd.jupyter.widget-view+json": {
       "model_id": "c5c665bb508b4b4ab356a3f2d5ffd2d0",
       "version_major": 2,
       "version_minor": 0
      },
      "text/plain": [
       "Generate report structure:   0%|          | 0/1 [00:00<?, ?it/s]"
      ]
     },
     "metadata": {},
     "output_type": "display_data"
    },
    {
     "data": {
      "application/vnd.jupyter.widget-view+json": {
       "model_id": "db87f2ed87ef439aba6e64083757333a",
       "version_major": 2,
       "version_minor": 0
      },
      "text/plain": [
       "Render HTML:   0%|          | 0/1 [00:00<?, ?it/s]"
      ]
     },
     "metadata": {},
     "output_type": "display_data"
    },
    {
     "data": {
      "application/vnd.jupyter.widget-view+json": {
       "model_id": "5381dc610c674b748c8c4cf5279e71fc",
       "version_major": 2,
       "version_minor": 0
      },
      "text/plain": [
       "Export report to file:   0%|          | 0/1 [00:00<?, ?it/s]"
      ]
     },
     "metadata": {},
     "output_type": "display_data"
    }
   ],
   "source": [
    "profile = ProfileReport( df4 )\n",
    "profile.to_file( 'output.html' )\n",
    "#alternativa o swit viz"
   ]
  },
  {
   "cell_type": "markdown",
   "id": "b55fa675",
   "metadata": {},
   "source": [
    "### 4.1.1. Gross Revenue"
   ]
  },
  {
   "cell_type": "code",
   "execution_count": 151,
   "id": "fdc8caca",
   "metadata": {
    "ExecuteTime": {
     "end_time": "2022-03-21T22:45:28.922839Z",
     "start_time": "2022-03-21T22:45:28.846565Z"
    }
   },
   "outputs": [
    {
     "data": {
      "text/html": [
       "<div>\n",
       "<style scoped>\n",
       "    .dataframe tbody tr th:only-of-type {\n",
       "        vertical-align: middle;\n",
       "    }\n",
       "\n",
       "    .dataframe tbody tr th {\n",
       "        vertical-align: top;\n",
       "    }\n",
       "\n",
       "    .dataframe thead th {\n",
       "        text-align: right;\n",
       "    }\n",
       "</style>\n",
       "<table border=\"1\" class=\"dataframe\">\n",
       "  <thead>\n",
       "    <tr style=\"text-align: right;\">\n",
       "      <th></th>\n",
       "      <th>customer_id</th>\n",
       "      <th>gross_revenue</th>\n",
       "      <th>recency_days</th>\n",
       "      <th>qtde_invoices</th>\n",
       "      <th>qtde_items</th>\n",
       "      <th>qtde_products</th>\n",
       "      <th>avg_ticket</th>\n",
       "      <th>avg_recency_days</th>\n",
       "      <th>frequency</th>\n",
       "      <th>qtde_returns</th>\n",
       "      <th>avg_basket_size</th>\n",
       "      <th>avg_unique_basket_size</th>\n",
       "    </tr>\n",
       "  </thead>\n",
       "  <tbody>\n",
       "    <tr>\n",
       "      <th>1017</th>\n",
       "      <td>14646</td>\n",
       "      <td>279138.02</td>\n",
       "      <td>1.0</td>\n",
       "      <td>72.0</td>\n",
       "      <td>196844.0</td>\n",
       "      <td>2060.0</td>\n",
       "      <td>135.503893</td>\n",
       "      <td>7.844444</td>\n",
       "      <td>0.206215</td>\n",
       "      <td>288.0</td>\n",
       "      <td>2733.944444</td>\n",
       "      <td>28.611111</td>\n",
       "    </tr>\n",
       "    <tr>\n",
       "      <th>492</th>\n",
       "      <td>18102</td>\n",
       "      <td>259657.30</td>\n",
       "      <td>0.0</td>\n",
       "      <td>60.0</td>\n",
       "      <td>64124.0</td>\n",
       "      <td>431.0</td>\n",
       "      <td>602.453132</td>\n",
       "      <td>14.680000</td>\n",
       "      <td>0.163043</td>\n",
       "      <td>0.0</td>\n",
       "      <td>1068.733333</td>\n",
       "      <td>7.183333</td>\n",
       "    </tr>\n",
       "    <tr>\n",
       "      <th>433</th>\n",
       "      <td>17450</td>\n",
       "      <td>194550.79</td>\n",
       "      <td>8.0</td>\n",
       "      <td>46.0</td>\n",
       "      <td>69993.0</td>\n",
       "      <td>337.0</td>\n",
       "      <td>577.302047</td>\n",
       "      <td>12.821429</td>\n",
       "      <td>0.136111</td>\n",
       "      <td>952.0</td>\n",
       "      <td>1521.586957</td>\n",
       "      <td>7.326087</td>\n",
       "    </tr>\n",
       "    <tr>\n",
       "      <th>66</th>\n",
       "      <td>14911</td>\n",
       "      <td>140450.72</td>\n",
       "      <td>1.0</td>\n",
       "      <td>199.0</td>\n",
       "      <td>80263.0</td>\n",
       "      <td>5673.0</td>\n",
       "      <td>24.757751</td>\n",
       "      <td>2.601399</td>\n",
       "      <td>0.651475</td>\n",
       "      <td>3332.0</td>\n",
       "      <td>403.331658</td>\n",
       "      <td>28.507538</td>\n",
       "    </tr>\n",
       "    <tr>\n",
       "      <th>1150</th>\n",
       "      <td>12415</td>\n",
       "      <td>124564.53</td>\n",
       "      <td>24.0</td>\n",
       "      <td>20.0</td>\n",
       "      <td>77373.0</td>\n",
       "      <td>713.0</td>\n",
       "      <td>174.704811</td>\n",
       "      <td>20.866667</td>\n",
       "      <td>0.076433</td>\n",
       "      <td>427.0</td>\n",
       "      <td>3868.650000</td>\n",
       "      <td>35.650000</td>\n",
       "    </tr>\n",
       "    <tr>\n",
       "      <th>190</th>\n",
       "      <td>14156</td>\n",
       "      <td>117379.63</td>\n",
       "      <td>9.0</td>\n",
       "      <td>55.0</td>\n",
       "      <td>57885.0</td>\n",
       "      <td>1400.0</td>\n",
       "      <td>83.842593</td>\n",
       "      <td>7.260000</td>\n",
       "      <td>0.178571</td>\n",
       "      <td>859.0</td>\n",
       "      <td>1052.454545</td>\n",
       "      <td>25.454545</td>\n",
       "    </tr>\n",
       "    <tr>\n",
       "      <th>15</th>\n",
       "      <td>17511</td>\n",
       "      <td>91062.38</td>\n",
       "      <td>2.0</td>\n",
       "      <td>31.0</td>\n",
       "      <td>64549.0</td>\n",
       "      <td>963.0</td>\n",
       "      <td>94.561142</td>\n",
       "      <td>11.593750</td>\n",
       "      <td>0.120968</td>\n",
       "      <td>1535.0</td>\n",
       "      <td>2082.225806</td>\n",
       "      <td>31.064516</td>\n",
       "    </tr>\n",
       "    <tr>\n",
       "      <th>12</th>\n",
       "      <td>16029</td>\n",
       "      <td>72882.09</td>\n",
       "      <td>38.0</td>\n",
       "      <td>62.0</td>\n",
       "      <td>40207.0</td>\n",
       "      <td>241.0</td>\n",
       "      <td>302.415311</td>\n",
       "      <td>9.054054</td>\n",
       "      <td>0.196429</td>\n",
       "      <td>8004.0</td>\n",
       "      <td>648.500000</td>\n",
       "      <td>3.887097</td>\n",
       "    </tr>\n",
       "    <tr>\n",
       "      <th>955</th>\n",
       "      <td>16684</td>\n",
       "      <td>66653.56</td>\n",
       "      <td>4.0</td>\n",
       "      <td>28.0</td>\n",
       "      <td>50255.0</td>\n",
       "      <td>277.0</td>\n",
       "      <td>240.626570</td>\n",
       "      <td>22.125000</td>\n",
       "      <td>0.084507</td>\n",
       "      <td>864.0</td>\n",
       "      <td>1794.821429</td>\n",
       "      <td>9.892857</td>\n",
       "    </tr>\n",
       "    <tr>\n",
       "      <th>36</th>\n",
       "      <td>13694</td>\n",
       "      <td>65039.62</td>\n",
       "      <td>3.0</td>\n",
       "      <td>50.0</td>\n",
       "      <td>63312.0</td>\n",
       "      <td>568.0</td>\n",
       "      <td>114.506373</td>\n",
       "      <td>9.736842</td>\n",
       "      <td>0.153639</td>\n",
       "      <td>1504.0</td>\n",
       "      <td>1266.240000</td>\n",
       "      <td>11.360000</td>\n",
       "    </tr>\n",
       "  </tbody>\n",
       "</table>\n",
       "</div>"
      ],
      "text/plain": [
       "      customer_id  gross_revenue  recency_days  qtde_invoices  qtde_items  \\\n",
       "1017        14646      279138.02           1.0           72.0    196844.0   \n",
       "492         18102      259657.30           0.0           60.0     64124.0   \n",
       "433         17450      194550.79           8.0           46.0     69993.0   \n",
       "66          14911      140450.72           1.0          199.0     80263.0   \n",
       "1150        12415      124564.53          24.0           20.0     77373.0   \n",
       "190         14156      117379.63           9.0           55.0     57885.0   \n",
       "15          17511       91062.38           2.0           31.0     64549.0   \n",
       "12          16029       72882.09          38.0           62.0     40207.0   \n",
       "955         16684       66653.56           4.0           28.0     50255.0   \n",
       "36          13694       65039.62           3.0           50.0     63312.0   \n",
       "\n",
       "      qtde_products  avg_ticket  avg_recency_days  frequency  qtde_returns  \\\n",
       "1017         2060.0  135.503893          7.844444   0.206215         288.0   \n",
       "492           431.0  602.453132         14.680000   0.163043           0.0   \n",
       "433           337.0  577.302047         12.821429   0.136111         952.0   \n",
       "66           5673.0   24.757751          2.601399   0.651475        3332.0   \n",
       "1150          713.0  174.704811         20.866667   0.076433         427.0   \n",
       "190          1400.0   83.842593          7.260000   0.178571         859.0   \n",
       "15            963.0   94.561142         11.593750   0.120968        1535.0   \n",
       "12            241.0  302.415311          9.054054   0.196429        8004.0   \n",
       "955           277.0  240.626570         22.125000   0.084507         864.0   \n",
       "36            568.0  114.506373          9.736842   0.153639        1504.0   \n",
       "\n",
       "      avg_basket_size  avg_unique_basket_size  \n",
       "1017      2733.944444               28.611111  \n",
       "492       1068.733333                7.183333  \n",
       "433       1521.586957                7.326087  \n",
       "66         403.331658               28.507538  \n",
       "1150      3868.650000               35.650000  \n",
       "190       1052.454545               25.454545  \n",
       "15        2082.225806               31.064516  \n",
       "12         648.500000                3.887097  \n",
       "955       1794.821429                9.892857  \n",
       "36        1266.240000               11.360000  "
      ]
     },
     "execution_count": 151,
     "metadata": {},
     "output_type": "execute_result"
    }
   ],
   "source": [
    "df4.sort_values('gross_revenue', ascending = False ).head(10)"
   ]
  },
  {
   "cell_type": "code",
   "execution_count": 152,
   "id": "262fb90b",
   "metadata": {
    "ExecuteTime": {
     "end_time": "2022-03-21T22:45:36.899274Z",
     "start_time": "2022-03-21T22:45:36.852650Z"
    }
   },
   "outputs": [
    {
     "data": {
      "text/html": [
       "<div>\n",
       "<style scoped>\n",
       "    .dataframe tbody tr th:only-of-type {\n",
       "        vertical-align: middle;\n",
       "    }\n",
       "\n",
       "    .dataframe tbody tr th {\n",
       "        vertical-align: top;\n",
       "    }\n",
       "\n",
       "    .dataframe thead th {\n",
       "        text-align: right;\n",
       "    }\n",
       "</style>\n",
       "<table border=\"1\" class=\"dataframe\">\n",
       "  <thead>\n",
       "    <tr style=\"text-align: right;\">\n",
       "      <th></th>\n",
       "      <th>invoice_no</th>\n",
       "      <th>stock_code</th>\n",
       "      <th>quantity</th>\n",
       "      <th>invoice_date</th>\n",
       "      <th>unit_price</th>\n",
       "      <th>country</th>\n",
       "      <th>customer_id</th>\n",
       "    </tr>\n",
       "  </thead>\n",
       "  <tbody>\n",
       "    <tr>\n",
       "      <th>37952</th>\n",
       "      <td>539491</td>\n",
       "      <td>21981</td>\n",
       "      <td>12</td>\n",
       "      <td>2016-12-18</td>\n",
       "      <td>0.29</td>\n",
       "      <td>Netherlands</td>\n",
       "      <td>14646</td>\n",
       "    </tr>\n",
       "    <tr>\n",
       "      <th>37953</th>\n",
       "      <td>539491</td>\n",
       "      <td>21986</td>\n",
       "      <td>12</td>\n",
       "      <td>2016-12-18</td>\n",
       "      <td>0.29</td>\n",
       "      <td>Netherlands</td>\n",
       "      <td>14646</td>\n",
       "    </tr>\n",
       "    <tr>\n",
       "      <th>37954</th>\n",
       "      <td>539491</td>\n",
       "      <td>22720</td>\n",
       "      <td>2</td>\n",
       "      <td>2016-12-18</td>\n",
       "      <td>4.95</td>\n",
       "      <td>Netherlands</td>\n",
       "      <td>14646</td>\n",
       "    </tr>\n",
       "    <tr>\n",
       "      <th>37955</th>\n",
       "      <td>539491</td>\n",
       "      <td>21931</td>\n",
       "      <td>1</td>\n",
       "      <td>2016-12-18</td>\n",
       "      <td>1.95</td>\n",
       "      <td>Netherlands</td>\n",
       "      <td>14646</td>\n",
       "    </tr>\n",
       "    <tr>\n",
       "      <th>37956</th>\n",
       "      <td>539491</td>\n",
       "      <td>22613</td>\n",
       "      <td>2</td>\n",
       "      <td>2016-12-18</td>\n",
       "      <td>0.85</td>\n",
       "      <td>Netherlands</td>\n",
       "      <td>14646</td>\n",
       "    </tr>\n",
       "    <tr>\n",
       "      <th>37957</th>\n",
       "      <td>539491</td>\n",
       "      <td>20751</td>\n",
       "      <td>1</td>\n",
       "      <td>2016-12-18</td>\n",
       "      <td>2.10</td>\n",
       "      <td>Netherlands</td>\n",
       "      <td>14646</td>\n",
       "    </tr>\n",
       "    <tr>\n",
       "      <th>37958</th>\n",
       "      <td>539491</td>\n",
       "      <td>21246</td>\n",
       "      <td>2</td>\n",
       "      <td>2016-12-18</td>\n",
       "      <td>4.95</td>\n",
       "      <td>Netherlands</td>\n",
       "      <td>14646</td>\n",
       "    </tr>\n",
       "    <tr>\n",
       "      <th>37959</th>\n",
       "      <td>539491</td>\n",
       "      <td>22960</td>\n",
       "      <td>1</td>\n",
       "      <td>2016-12-18</td>\n",
       "      <td>4.25</td>\n",
       "      <td>Netherlands</td>\n",
       "      <td>14646</td>\n",
       "    </tr>\n",
       "    <tr>\n",
       "      <th>37960</th>\n",
       "      <td>539491</td>\n",
       "      <td>22355</td>\n",
       "      <td>2</td>\n",
       "      <td>2016-12-18</td>\n",
       "      <td>0.85</td>\n",
       "      <td>Netherlands</td>\n",
       "      <td>14646</td>\n",
       "    </tr>\n",
       "    <tr>\n",
       "      <th>37961</th>\n",
       "      <td>539491</td>\n",
       "      <td>21123</td>\n",
       "      <td>2</td>\n",
       "      <td>2016-12-18</td>\n",
       "      <td>1.25</td>\n",
       "      <td>Netherlands</td>\n",
       "      <td>14646</td>\n",
       "    </tr>\n",
       "  </tbody>\n",
       "</table>\n",
       "</div>"
      ],
      "text/plain": [
       "      invoice_no stock_code  quantity invoice_date  unit_price      country  \\\n",
       "37952     539491      21981        12   2016-12-18        0.29  Netherlands   \n",
       "37953     539491      21986        12   2016-12-18        0.29  Netherlands   \n",
       "37954     539491      22720         2   2016-12-18        4.95  Netherlands   \n",
       "37955     539491      21931         1   2016-12-18        1.95  Netherlands   \n",
       "37956     539491      22613         2   2016-12-18        0.85  Netherlands   \n",
       "37957     539491      20751         1   2016-12-18        2.10  Netherlands   \n",
       "37958     539491      21246         2   2016-12-18        4.95  Netherlands   \n",
       "37959     539491      22960         1   2016-12-18        4.25  Netherlands   \n",
       "37960     539491      22355         2   2016-12-18        0.85  Netherlands   \n",
       "37961     539491      21123         2   2016-12-18        1.25  Netherlands   \n",
       "\n",
       "       customer_id  \n",
       "37952        14646  \n",
       "37953        14646  \n",
       "37954        14646  \n",
       "37955        14646  \n",
       "37956        14646  \n",
       "37957        14646  \n",
       "37958        14646  \n",
       "37959        14646  \n",
       "37960        14646  \n",
       "37961        14646  "
      ]
     },
     "execution_count": 152,
     "metadata": {},
     "output_type": "execute_result"
    }
   ],
   "source": [
    "df3[df3['customer_id'] == 14646].head(10)"
   ]
  },
  {
   "cell_type": "code",
   "execution_count": 153,
   "id": "a6043aba",
   "metadata": {
    "ExecuteTime": {
     "end_time": "2022-03-21T22:45:37.886270Z",
     "start_time": "2022-03-21T22:45:37.855858Z"
    }
   },
   "outputs": [
    {
     "data": {
      "text/plain": [
       "278778.02"
      ]
     },
     "execution_count": 153,
     "metadata": {},
     "output_type": "execute_result"
    }
   ],
   "source": [
    "np.sum(df3.loc[df3['customer_id'] == 14646, 'quantity']*df3.loc[df3['customer_id'] == 14646, 'unit_price'] )"
   ]
  },
  {
   "cell_type": "markdown",
   "id": "42b2f484",
   "metadata": {},
   "source": [
    "## 4.2. Bivariate Analysis"
   ]
  },
  {
   "cell_type": "markdown",
   "id": "9e4c949b",
   "metadata": {
    "heading_collapsed": true
   },
   "source": [
    "# 5.0. Data Preparation"
   ]
  },
  {
   "cell_type": "code",
   "execution_count": 103,
   "id": "8092d485",
   "metadata": {
    "ExecuteTime": {
     "end_time": "2022-03-16T22:36:25.634176Z",
     "start_time": "2022-03-16T22:36:25.621468Z"
    },
    "hidden": true
   },
   "outputs": [],
   "source": [
    "df5 = df4.copy()"
   ]
  },
  {
   "cell_type": "code",
   "execution_count": 104,
   "id": "6d12f090",
   "metadata": {
    "ExecuteTime": {
     "end_time": "2022-03-16T22:36:26.343156Z",
     "start_time": "2022-03-16T22:36:26.312125Z"
    },
    "hidden": true
   },
   "outputs": [
    {
     "data": {
      "text/html": [
       "<div>\n",
       "<style scoped>\n",
       "    .dataframe tbody tr th:only-of-type {\n",
       "        vertical-align: middle;\n",
       "    }\n",
       "\n",
       "    .dataframe tbody tr th {\n",
       "        vertical-align: top;\n",
       "    }\n",
       "\n",
       "    .dataframe thead th {\n",
       "        text-align: right;\n",
       "    }\n",
       "</style>\n",
       "<table border=\"1\" class=\"dataframe\">\n",
       "  <thead>\n",
       "    <tr style=\"text-align: right;\">\n",
       "      <th></th>\n",
       "      <th>customer_id</th>\n",
       "      <th>gross_revenue</th>\n",
       "      <th>recency_days</th>\n",
       "      <th>invoice_no</th>\n",
       "      <th>avg_ticket</th>\n",
       "    </tr>\n",
       "  </thead>\n",
       "  <tbody>\n",
       "    <tr>\n",
       "      <th>0</th>\n",
       "      <td>17850</td>\n",
       "      <td>5391.21</td>\n",
       "      <td>372.0</td>\n",
       "      <td>34.0</td>\n",
       "      <td>18.152222</td>\n",
       "    </tr>\n",
       "    <tr>\n",
       "      <th>1</th>\n",
       "      <td>13047</td>\n",
       "      <td>3237.54</td>\n",
       "      <td>31.0</td>\n",
       "      <td>10.0</td>\n",
       "      <td>18.822907</td>\n",
       "    </tr>\n",
       "  </tbody>\n",
       "</table>\n",
       "</div>"
      ],
      "text/plain": [
       "   customer_id  gross_revenue  recency_days  invoice_no  avg_ticket\n",
       "0        17850        5391.21         372.0        34.0   18.152222\n",
       "1        13047        3237.54          31.0        10.0   18.822907"
      ]
     },
     "execution_count": 104,
     "metadata": {},
     "output_type": "execute_result"
    }
   ],
   "source": [
    "df5.head(2)"
   ]
  },
  {
   "cell_type": "code",
   "execution_count": 123,
   "id": "b6055ad5",
   "metadata": {
    "ExecuteTime": {
     "end_time": "2022-03-16T22:55:09.298686Z",
     "start_time": "2022-03-16T22:55:09.242295Z"
    },
    "hidden": true
   },
   "outputs": [],
   "source": [
    "ss = pp.StandardScaler()\n",
    "\n",
    "df5['gross_revenue'] = ss.fit_transform( df5[['gross_revenue']])\n",
    "df5['recency_days'] = ss.fit_transform( df5[['recency_days']])\n",
    "df5['invoice_no'] = ss.fit_transform( df5[['invoice_no']])\n",
    "df5['avg_ticket'] = ss.fit_transform( df5[['avg_ticket']])\n"
   ]
  },
  {
   "cell_type": "markdown",
   "id": "0d39932a",
   "metadata": {
    "heading_collapsed": true
   },
   "source": [
    "# 6.0. Feature Selection"
   ]
  },
  {
   "cell_type": "code",
   "execution_count": 124,
   "id": "ea6a2d1c",
   "metadata": {
    "ExecuteTime": {
     "end_time": "2022-03-16T22:55:38.138305Z",
     "start_time": "2022-03-16T22:55:38.133949Z"
    },
    "hidden": true
   },
   "outputs": [],
   "source": [
    "df6 = df5.copy()"
   ]
  },
  {
   "cell_type": "markdown",
   "id": "dbaa7674",
   "metadata": {
    "heading_collapsed": true
   },
   "source": [
    "# 7.0. Hyperparameter Fine-Tunning"
   ]
  },
  {
   "cell_type": "code",
   "execution_count": 125,
   "id": "3bc81361",
   "metadata": {
    "ExecuteTime": {
     "end_time": "2022-03-16T22:55:39.405059Z",
     "start_time": "2022-03-16T22:55:39.387541Z"
    },
    "hidden": true
   },
   "outputs": [],
   "source": [
    "x = df6.drop( columns = ['customer_id'])"
   ]
  },
  {
   "cell_type": "code",
   "execution_count": 126,
   "id": "8b501b8a",
   "metadata": {
    "ExecuteTime": {
     "end_time": "2022-03-16T22:55:40.003426Z",
     "start_time": "2022-03-16T22:55:40.000489Z"
    },
    "hidden": true
   },
   "outputs": [],
   "source": [
    "clusters = [2, 3, 4, 5, 6, 7 ]"
   ]
  },
  {
   "cell_type": "markdown",
   "id": "50ef2bb4",
   "metadata": {
    "ExecuteTime": {
     "end_time": "2022-03-10T12:56:54.823950Z",
     "start_time": "2022-03-10T12:56:54.810430Z"
    },
    "heading_collapsed": true,
    "hidden": true
   },
   "source": [
    "## 7.1 Within-Cluster Sum of Square( WSS )"
   ]
  },
  {
   "cell_type": "code",
   "execution_count": 127,
   "id": "0cbb94da",
   "metadata": {
    "ExecuteTime": {
     "end_time": "2022-03-16T22:55:41.280049Z",
     "start_time": "2022-03-16T22:55:41.253914Z"
    },
    "hidden": true
   },
   "outputs": [],
   "source": [
    "#wss = []\n",
    "#for k in clusters:\n",
    "    #model definition\n",
    "#    kmeans = c.KMeans( init = 'random', n_clusters = k, n_init = 10, max_iter = 300, random_state = 42 )\n",
    "    \n",
    "    #model training\n",
    "#    kmeans.fit( x )\n",
    "    \n",
    "    #validation\n",
    "#    wss.append( kmeans.inertia_)\n",
    "\n",
    "#plot wss - elbow methods\n",
    "#plt.plot( clusters, wss, linestyle = '--', marker = 'o', color = 'b')\n",
    "#plt.xlabel( 'k' )\n",
    "#plt.ylabel( 'Within-Cluster Sum of Square' );\n",
    "#plt.title( 'WSS vc K')\n"
   ]
  },
  {
   "cell_type": "code",
   "execution_count": 128,
   "id": "6f411639",
   "metadata": {
    "ExecuteTime": {
     "end_time": "2022-03-16T22:55:44.942668Z",
     "start_time": "2022-03-16T22:55:42.004754Z"
    },
    "hidden": true
   },
   "outputs": [
    {
     "data": {
      "image/png": "[encoded data removed]",
      "text/plain": [
       "<Figure size 576x396 with 2 Axes>"
      ]
     },
     "metadata": {},
     "output_type": "display_data"
    }
   ],
   "source": [
    "kmeans = KElbowVisualizer( c.KMeans(), k = clusters, timining = False )\n",
    "kmeans.fit( x )\n",
    "kmeans.show();"
   ]
  },
  {
   "cell_type": "markdown",
   "id": "b7ac2fe4",
   "metadata": {
    "hidden": true
   },
   "source": [
    "> A métrica wss leva em consideração o tamanho dos cluster, usando como parâmetro para os calculos a distância intra clusters. \n",
    "\n",
    "> Analisando os resultados, queremos encontrar o chamado \"joelho\", que é a quantidade de cluster que há uma diferença visual grande no gráfico, no caso de nosso plot este número é o k=3"
   ]
  },
  {
   "cell_type": "markdown",
   "id": "381c9c7a",
   "metadata": {
    "heading_collapsed": true,
    "hidden": true
   },
   "source": [
    "## 7.2 Silhouette Score( SS )"
   ]
  },
  {
   "cell_type": "code",
   "execution_count": 130,
   "id": "87ea914a",
   "metadata": {
    "ExecuteTime": {
     "end_time": "2022-03-16T22:56:37.163231Z",
     "start_time": "2022-03-16T22:56:30.202327Z"
    },
    "hidden": true
   },
   "outputs": [
    {
     "data": {
      "image/png": "[encoded data removed]",
      "text/plain": [
       "<Figure size 576x396 with 2 Axes>"
      ]
     },
     "metadata": {},
     "output_type": "display_data"
    }
   ],
   "source": [
    "kmeans = KElbowVisualizer( c.KMeans(), k = clusters, metric='silhouette', timining = False )\n",
    "kmeans.fit( x )\n",
    "kmeans.show();"
   ]
  },
  {
   "cell_type": "markdown",
   "id": "0bd7e806",
   "metadata": {
    "hidden": true
   },
   "source": [
    "> A métrica SS, leva em consideração para o calculo tanto a distância intra cluster como a distânci entre os clusters.\n",
    "\n",
    "> Analisando os resultados, queremos encontrar o número de K, que teja um valor de SS mais próximo de 1. No nosso caso o melhor S encontrado foi em K=2, porém vale ressaltar euq o k=3, ainda esta acima de 0,95 o que é muito bom também. \n",
    "\n",
    "> Como o wSS o k=3 teve melhor desempenho e no SS os desempenhos de k=2 e k=3 ficaram semelhantes, vamos definir de inicio o valor de k=3."
   ]
  },
  {
   "cell_type": "markdown",
   "id": "c972977d",
   "metadata": {
    "heading_collapsed": true,
    "hidden": true
   },
   "source": [
    "## 7.3 Silhouette Analysis"
   ]
  },
  {
   "cell_type": "code",
   "execution_count": 131,
   "id": "86eb2326",
   "metadata": {
    "ExecuteTime": {
     "end_time": "2022-03-16T22:57:04.394033Z",
     "start_time": "2022-03-16T22:56:52.906571Z"
    },
    "hidden": true
   },
   "outputs": [
    {
     "data": {
      "image/png": "[encoded data removed]",
      "text/plain": [
       "<Figure size 1800x1296 with 6 Axes>"
      ]
     },
     "metadata": {},
     "output_type": "display_data"
    }
   ],
   "source": [
    "fig, ax = plt.subplots(3, 2, figsize = (25, 18 ) )\n",
    "\n",
    "\n",
    "for k in clusters:\n",
    "    km = c.KMeans( n_clusters = k, init= 'random', n_init = 10, max_iter = 100, random_state = 42 )\n",
    "    q, mod = divmod( k, 2 )\n",
    "    visualizer = SilhouetteVisualizer( km, colors = 'yellowbrick', ax=ax[q-1][mod] )\n",
    "    visualizer.fit( x );\n",
    "    visualizer.finalize( );"
   ]
  },
  {
   "cell_type": "markdown",
   "id": "b3373b11",
   "metadata": {
    "heading_collapsed": true
   },
   "source": [
    "# 8.0. Model Training"
   ]
  },
  {
   "cell_type": "markdown",
   "id": "5da24ff8",
   "metadata": {
    "heading_collapsed": true,
    "hidden": true
   },
   "source": [
    "## 8.1 K-Means"
   ]
  },
  {
   "cell_type": "markdown",
   "id": "79fdaf1b",
   "metadata": {
    "hidden": true
   },
   "source": [
    "#### Model Definition"
   ]
  },
  {
   "cell_type": "code",
   "execution_count": 133,
   "id": "4aff1c73",
   "metadata": {
    "ExecuteTime": {
     "end_time": "2022-03-16T22:57:50.108755Z",
     "start_time": "2022-03-16T22:57:49.748377Z"
    },
    "hidden": true
   },
   "outputs": [],
   "source": [
    "# model definition\n",
    "k= 3\n",
    "kmeans = c.KMeans( init = 'random', n_clusters=k, n_init=10, max_iter=300 )\n",
    "\n",
    "#model training\n",
    "kmeans.fit( x )\n",
    "\n",
    "#clustering\n",
    "labels = kmeans.labels_\n",
    "\n"
   ]
  },
  {
   "cell_type": "markdown",
   "id": "78b0a2af",
   "metadata": {
    "hidden": true
   },
   "source": [
    "#### Cluster Validation"
   ]
  },
  {
   "cell_type": "code",
   "execution_count": 134,
   "id": "b9060f84",
   "metadata": {
    "ExecuteTime": {
     "end_time": "2022-03-16T22:57:51.793854Z",
     "start_time": "2022-03-16T22:57:51.072370Z"
    },
    "hidden": true
   },
   "outputs": [
    {
     "name": "stdout",
     "output_type": "stream",
     "text": [
      "wss values: 9415.373836075656\n",
      "SS Values:0.5885444793509821\n"
     ]
    }
   ],
   "source": [
    "## wss( within-cluster sum of square )\n",
    "print( 'wss values: {}'.format( kmeans.inertia_ ))\n",
    "\n",
    "## SS( Silhouette Score)\n",
    "print('SS Values:{}'.format( m.silhouette_score( x, labels, metric='euclidean')))"
   ]
  },
  {
   "cell_type": "markdown",
   "id": "4aa9e911",
   "metadata": {
    "heading_collapsed": true
   },
   "source": [
    "# 9. Cluster Analysis"
   ]
  },
  {
   "cell_type": "code",
   "execution_count": 135,
   "id": "9cd2a22e",
   "metadata": {
    "ExecuteTime": {
     "end_time": "2022-03-16T22:58:10.536731Z",
     "start_time": "2022-03-16T22:58:10.512424Z"
    },
    "hidden": true
   },
   "outputs": [
    {
     "data": {
      "text/html": [
       "<div>\n",
       "<style scoped>\n",
       "    .dataframe tbody tr th:only-of-type {\n",
       "        vertical-align: middle;\n",
       "    }\n",
       "\n",
       "    .dataframe tbody tr th {\n",
       "        vertical-align: top;\n",
       "    }\n",
       "\n",
       "    .dataframe thead th {\n",
       "        text-align: right;\n",
       "    }\n",
       "</style>\n",
       "<table border=\"1\" class=\"dataframe\">\n",
       "  <thead>\n",
       "    <tr style=\"text-align: right;\">\n",
       "      <th></th>\n",
       "      <th>customer_id</th>\n",
       "      <th>gross_revenue</th>\n",
       "      <th>recency_days</th>\n",
       "      <th>invoice_no</th>\n",
       "      <th>avg_ticket</th>\n",
       "      <th>cluster</th>\n",
       "    </tr>\n",
       "  </thead>\n",
       "  <tbody>\n",
       "    <tr>\n",
       "      <th>0</th>\n",
       "      <td>17850</td>\n",
       "      <td>0.370887</td>\n",
       "      <td>2.798602</td>\n",
       "      <td>3.859875</td>\n",
       "      <td>-0.034222</td>\n",
       "      <td>0</td>\n",
       "    </tr>\n",
       "    <tr>\n",
       "      <th>1</th>\n",
       "      <td>13047</td>\n",
       "      <td>0.131411</td>\n",
       "      <td>-0.609844</td>\n",
       "      <td>0.743494</td>\n",
       "      <td>-0.033765</td>\n",
       "      <td>2</td>\n",
       "    </tr>\n",
       "    <tr>\n",
       "      <th>2</th>\n",
       "      <td>12583</td>\n",
       "      <td>0.581063</td>\n",
       "      <td>-0.899712</td>\n",
       "      <td>1.392740</td>\n",
       "      <td>-0.026509</td>\n",
       "      <td>2</td>\n",
       "    </tr>\n",
       "    <tr>\n",
       "      <th>3</th>\n",
       "      <td>13748</td>\n",
       "      <td>-0.123144</td>\n",
       "      <td>0.029864</td>\n",
       "      <td>0.094248</td>\n",
       "      <td>-0.023522</td>\n",
       "      <td>2</td>\n",
       "    </tr>\n",
       "    <tr>\n",
       "      <th>4</th>\n",
       "      <td>15100</td>\n",
       "      <td>-0.131178</td>\n",
       "      <td>2.408780</td>\n",
       "      <td>-0.165451</td>\n",
       "      <td>0.152247</td>\n",
       "      <td>0</td>\n",
       "    </tr>\n",
       "  </tbody>\n",
       "</table>\n",
       "</div>"
      ],
      "text/plain": [
       "   customer_id  gross_revenue  recency_days  invoice_no  avg_ticket  cluster\n",
       "0        17850       0.370887      2.798602    3.859875   -0.034222        0\n",
       "1        13047       0.131411     -0.609844    0.743494   -0.033765        2\n",
       "2        12583       0.581063     -0.899712    1.392740   -0.026509        2\n",
       "3        13748      -0.123144      0.029864    0.094248   -0.023522        2\n",
       "4        15100      -0.131178      2.408780   -0.165451    0.152247        0"
      ]
     },
     "execution_count": 135,
     "metadata": {},
     "output_type": "execute_result"
    }
   ],
   "source": [
    "df9 = df6.copy()\n",
    "df9['cluster'] = labels\n",
    "df9.head()"
   ]
  },
  {
   "cell_type": "markdown",
   "id": "efe2cd77",
   "metadata": {
    "heading_collapsed": true,
    "hidden": true
   },
   "source": [
    "## 9.1. Visualizatoin Inspection"
   ]
  },
  {
   "cell_type": "code",
   "execution_count": 136,
   "id": "2012972f",
   "metadata": {
    "ExecuteTime": {
     "end_time": "2022-03-16T22:58:13.414477Z",
     "start_time": "2022-03-16T22:58:11.885856Z"
    },
    "hidden": true,
    "scrolled": true
   },
   "outputs": [
    {
     "data": {
      "image/png": "[encoded data removed]",
      "text/plain": [
       "<Figure size 576x396 with 1 Axes>"
      ]
     },
     "metadata": {},
     "output_type": "display_data"
    }
   ],
   "source": [
    "#fig = px.scatter_3d( df8, x= 'recency_days', y = 'invoice_no', z='gross_revenue', color= 'cluster' );\n",
    "#fig.show()\n",
    "visualizer = SilhouetteVisualizer( kmeans, colors = 'yellowbrick')\n",
    "visualizer.fit(x)\n",
    "visualizer.finalize();"
   ]
  },
  {
   "cell_type": "markdown",
   "id": "467b8e34",
   "metadata": {
    "heading_collapsed": true,
    "hidden": true
   },
   "source": [
    "## 9.2. 2d plot"
   ]
  },
  {
   "cell_type": "code",
   "execution_count": 120,
   "id": "185403dd",
   "metadata": {
    "ExecuteTime": {
     "end_time": "2022-03-16T22:49:17.773291Z",
     "start_time": "2022-03-16T22:49:07.409804Z"
    },
    "hidden": true
   },
   "outputs": [
    {
     "data": {
      "text/plain": [
       "<seaborn.axisgrid.PairGrid at 0x7f6f54243f10>"
      ]
     },
     "execution_count": 120,
     "metadata": {},
     "output_type": "execute_result"
    },
    {
     "data": {
      "image/png": "[encoded data removed]",
      "text/plain": [
       "<Figure size 763.5x720 with 20 Axes>"
      ]
     },
     "metadata": {},
     "output_type": "display_data"
    }
   ],
   "source": [
    "# 2d plot\n",
    "df_viz = df9.drop( columns = 'customer_id', axis = 1 )\n",
    "sns.pairplot( df_viz, hue = 'cluster' )"
   ]
  },
  {
   "cell_type": "markdown",
   "id": "5b569bfe",
   "metadata": {
    "heading_collapsed": true,
    "hidden": true
   },
   "source": [
    "## 9.3. UMAP"
   ]
  },
  {
   "cell_type": "code",
   "execution_count": 140,
   "id": "c8c71895",
   "metadata": {
    "ExecuteTime": {
     "end_time": "2022-03-16T23:00:05.257283Z",
     "start_time": "2022-03-16T22:59:42.499812Z"
    },
    "hidden": true
   },
   "outputs": [
    {
     "data": {
      "text/plain": [
       "<AxesSubplot:xlabel='embedding_x', ylabel='embedding_y'>"
      ]
     },
     "execution_count": 140,
     "metadata": {},
     "output_type": "execute_result"
    },
    {
     "data": {
      "image/png": "[encoded data removed]",
      "text/plain": [
       "<Figure size 576x396 with 1 Axes>"
      ]
     },
     "metadata": {},
     "output_type": "display_data"
    }
   ],
   "source": [
    "#UMAP\n",
    "\n",
    "reducer = umap.UMAP( n_neighbors = 90, random_state=42 )\n",
    "embedding = reducer.fit_transform( x )\n",
    "\n",
    "#embedding\n",
    "df_viz['embedding_x'] = embedding[:, 0]\n",
    "df_viz['embedding_y'] = embedding[:, 1]\n",
    "\n",
    "#plot UMAP\n",
    "sns.scatterplot( x= 'embedding_x', y = 'embedding_y',\n",
    "              hue = 'cluster', \n",
    "              palette = sns.color_palette( 'hls', n_colors = len(df_viz['cluster'].unique() )),\n",
    "              data= df_viz )\n",
    "                "
   ]
  },
  {
   "cell_type": "markdown",
   "id": "891dc930",
   "metadata": {
    "hidden": true
   },
   "source": [
    "> O UMAP projeta uma visualização de mais alta dimensionalidade. Assim conseguimos analisar o quão misturados estão os clusters. \n",
    "\n",
    "> Os pontos próximos são classificados com a mesma cor, da para ver uma clara dominação do cluster 3(roxo), um dos motivos pode ser de não ter sido feito uma reescala dos cluster ainda. \n",
    "\n",
    "> Alterando o parâmetro n_neighbors, é possível visualizar estruturas mais globais, quando diminui, ele mostra visualização com menos agrupação, pois diminui a quantidade de visinhos. "
   ]
  },
  {
   "cell_type": "markdown",
   "id": "fc0d84e9",
   "metadata": {
    "heading_collapsed": true,
    "hidden": true
   },
   "source": [
    "## 9.4. Cluster Profile"
   ]
  },
  {
   "cell_type": "code",
   "execution_count": 138,
   "id": "097dbacf",
   "metadata": {
    "ExecuteTime": {
     "end_time": "2022-03-16T22:58:32.547930Z",
     "start_time": "2022-03-16T22:58:32.460162Z"
    },
    "hidden": true
   },
   "outputs": [
    {
     "data": {
      "text/html": [
       "<div>\n",
       "<style scoped>\n",
       "    .dataframe tbody tr th:only-of-type {\n",
       "        vertical-align: middle;\n",
       "    }\n",
       "\n",
       "    .dataframe tbody tr th {\n",
       "        vertical-align: top;\n",
       "    }\n",
       "\n",
       "    .dataframe thead th {\n",
       "        text-align: right;\n",
       "    }\n",
       "</style>\n",
       "<table border=\"1\" class=\"dataframe\">\n",
       "  <thead>\n",
       "    <tr style=\"text-align: right;\">\n",
       "      <th></th>\n",
       "      <th>cluster</th>\n",
       "      <th>customer_id</th>\n",
       "      <th>perc_customer</th>\n",
       "      <th>gross_revenue</th>\n",
       "      <th>recency_days</th>\n",
       "      <th>invoice_no</th>\n",
       "      <th>avg_ticket</th>\n",
       "    </tr>\n",
       "  </thead>\n",
       "  <tbody>\n",
       "    <tr>\n",
       "      <th>0</th>\n",
       "      <td>0</td>\n",
       "      <td>1089</td>\n",
       "      <td>25.132703</td>\n",
       "      <td>-0.166363</td>\n",
       "      <td>1.536349</td>\n",
       "      <td>-0.349910</td>\n",
       "      <td>-0.010767</td>\n",
       "    </tr>\n",
       "    <tr>\n",
       "      <th>1</th>\n",
       "      <td>1</td>\n",
       "      <td>22</td>\n",
       "      <td>0.507731</td>\n",
       "      <td>10.331571</td>\n",
       "      <td>-0.722066</td>\n",
       "      <td>8.445914</td>\n",
       "      <td>4.192015</td>\n",
       "    </tr>\n",
       "    <tr>\n",
       "      <th>2</th>\n",
       "      <td>2</td>\n",
       "      <td>3222</td>\n",
       "      <td>74.359566</td>\n",
       "      <td>-0.014316</td>\n",
       "      <td>-0.514339</td>\n",
       "      <td>0.060597</td>\n",
       "      <td>-0.024984</td>\n",
       "    </tr>\n",
       "  </tbody>\n",
       "</table>\n",
       "</div>"
      ],
      "text/plain": [
       "   cluster  customer_id  perc_customer  gross_revenue  recency_days  \\\n",
       "0        0         1089      25.132703      -0.166363      1.536349   \n",
       "1        1           22       0.507731      10.331571     -0.722066   \n",
       "2        2         3222      74.359566      -0.014316     -0.514339   \n",
       "\n",
       "   invoice_no  avg_ticket  \n",
       "0   -0.349910   -0.010767  \n",
       "1    8.445914    4.192015  \n",
       "2    0.060597   -0.024984  "
      ]
     },
     "execution_count": 138,
     "metadata": {},
     "output_type": "execute_result"
    }
   ],
   "source": [
    "# Number of customer\n",
    "df_cluster = df9[['customer_id', 'cluster']].groupby( 'cluster' ).count().reset_index()\n",
    "df_cluster['perc_customer'] = 100*( df_cluster['customer_id'] / df_cluster[ 'customer_id' ].sum() )\n",
    "\n",
    "# Avg Gross revenue\n",
    "df_avg_gross_revenue = df9[['gross_revenue', 'cluster']].groupby( 'cluster' ).mean().reset_index()\n",
    "df_cluster = pd.merge ( df_cluster, df_avg_gross_revenue, how = 'inner', on = 'cluster')\n",
    "\n",
    "#Avg recency days\n",
    "df_avg_recency_days = df9[['recency_days', 'cluster']].groupby ( 'cluster' ).mean().reset_index()\n",
    "df_cluster = pd.merge( df_cluster, df_avg_recency_days, how = 'inner', on='cluster' )\n",
    "\n",
    "#Avg invoice_no\n",
    "df_invoice_no = df9[['invoice_no', 'cluster']].groupby ( 'cluster' ).mean().reset_index()\n",
    "df_cluster = pd.merge( df_cluster, df_invoice_no, how = 'inner', on='cluster' )\n",
    "\n",
    "#AVG TIcket\n",
    "df_ticket = df9[['avg_ticket', 'cluster']].groupby( 'cluster' ).mean().reset_index()\n",
    "df_cluster = pd.merge(df_cluster, df_ticket, how='inner', on='cluster' )\n",
    "\n",
    "df_cluster\n"
   ]
  },
  {
   "cell_type": "markdown",
   "id": "48894b4b",
   "metadata": {
    "ExecuteTime": {
     "end_time": "2022-03-11T17:54:01.312126Z",
     "start_time": "2022-03-11T17:54:01.292487Z"
    },
    "hidden": true
   },
   "source": [
    " Cluster 01:  ( Candidato à Insider )\n",
    "- Número de customers: 6 (0.14% do customers )\n",
    "- Recência em média: 7 dias\n",
    "- Compras em média: 89 compras\n",
    "- Receita em média: $182.182,00 dólares\n",
    "\n",
    "Cluster 02:\n",
    "- Número de customers: 31 (0.71 do customers )\n",
    "- Recência em média: 14 dias\n",
    "- Compras em média: 53 compras\n",
    "- Receita em média: $40.543,52 dólares\n",
    "\n",
    "Cluster 03:\n",
    "- Número de customers: 4.335 (99% do customers )\n",
    "- Recência em média: 92 dias\n",
    "- Compras em média: 5 compras\n",
    "- Receita em média: $1.372,57 dólares"
   ]
  },
  {
   "cell_type": "markdown",
   "id": "d7fc1e5e",
   "metadata": {},
   "source": [
    "# 10.0. Deploy To Production"
   ]
  },
  {
   "cell_type": "code",
   "execution_count": null,
   "id": "eda4b4e2",
   "metadata": {
    "ExecuteTime": {
     "end_time": "2022-03-09T17:11:21.779994Z",
     "start_time": "2022-03-09T17:11:21.777892Z"
    }
   },
   "outputs": [],
   "source": []
  },
  {
   "cell_type": "code",
   "execution_count": null,
   "id": "9d2406a1",
   "metadata": {},
   "outputs": [],
   "source": []
  }
 ],
 "metadata": {
  "kernelspec": {
   "display_name": "Python 3 (ipykernel)",
   "language": "python",
   "name": "python3"
  },
  "language_info": {
   "codemirror_mode": {
    "name": "ipython",
    "version": 3
   },
   "file_extension": ".py",
   "mimetype": "text/x-python",
   "name": "python",
   "nbconvert_exporter": "python",
   "pygments_lexer": "ipython3",
   "version": "3.8.0"
  }
 },
 "nbformat": 4,
 "nbformat_minor": 5
}
