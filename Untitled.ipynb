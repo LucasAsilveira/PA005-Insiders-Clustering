{
 "cells": [
  {
   "cell_type": "code",
   "execution_count": 100,
   "id": "8c799b8a",
   "metadata": {
    "ExecuteTime": {
     "end_time": "2022-03-22T23:03:12.161069Z",
     "start_time": "2022-03-22T23:03:12.148545Z"
    }
   },
   "outputs": [],
   "source": [
    "import pandas as pd"
   ]
  },
  {
   "cell_type": "code",
   "execution_count": 105,
   "id": "89409ab2",
   "metadata": {
    "ExecuteTime": {
     "end_time": "2022-03-22T23:07:27.193493Z",
     "start_time": "2022-03-22T23:07:27.174925Z"
    }
   },
   "outputs": [],
   "source": [
    "df1 = pd.DataFrame({'A': ['Nan', 'Nan', 'Nan', 'Nan', 'Nan'],\n",
    "                   'B': ['Nan', 'Nan', 'Nan', 'Nan', 'Nan']})\n",
    "df2 = pd.DataFrame({'A': ['ok', 'ok'],}, index = [2,4]) "
   ]
  },
  {
   "cell_type": "code",
   "execution_count": 89,
   "id": "435d011c",
   "metadata": {
    "ExecuteTime": {
     "end_time": "2022-03-22T22:09:29.368338Z",
     "start_time": "2022-03-22T22:09:29.353695Z"
    }
   },
   "outputs": [],
   "source": [
    "df3 = pd.concat([df1, df2], axis=1)"
   ]
  },
  {
   "cell_type": "code",
   "execution_count": 90,
   "id": "7988bf84",
   "metadata": {
    "ExecuteTime": {
     "end_time": "2022-03-22T22:09:30.106186Z",
     "start_time": "2022-03-22T22:09:30.087775Z"
    }
   },
   "outputs": [],
   "source": [
    "df3 =df3.drop('A1', axis = 1).iloc[:, [1,0]]"
   ]
  },
  {
   "cell_type": "code",
   "execution_count": 91,
   "id": "7f971a80",
   "metadata": {
    "ExecuteTime": {
     "end_time": "2022-03-22T22:09:31.164351Z",
     "start_time": "2022-03-22T22:09:31.136551Z"
    }
   },
   "outputs": [
    {
     "data": {
      "text/html": [
       "<div>\n",
       "<style scoped>\n",
       "    .dataframe tbody tr th:only-of-type {\n",
       "        vertical-align: middle;\n",
       "    }\n",
       "\n",
       "    .dataframe tbody tr th {\n",
       "        vertical-align: top;\n",
       "    }\n",
       "\n",
       "    .dataframe thead th {\n",
       "        text-align: right;\n",
       "    }\n",
       "</style>\n",
       "<table border=\"1\" class=\"dataframe\">\n",
       "  <thead>\n",
       "    <tr style=\"text-align: right;\">\n",
       "      <th></th>\n",
       "      <th>A</th>\n",
       "      <th>B</th>\n",
       "    </tr>\n",
       "  </thead>\n",
       "  <tbody>\n",
       "    <tr>\n",
       "      <th>0</th>\n",
       "      <td>NaN</td>\n",
       "      <td>Nan</td>\n",
       "    </tr>\n",
       "    <tr>\n",
       "      <th>1</th>\n",
       "      <td>NaN</td>\n",
       "      <td>Nan</td>\n",
       "    </tr>\n",
       "    <tr>\n",
       "      <th>2</th>\n",
       "      <td>ok</td>\n",
       "      <td>Nan</td>\n",
       "    </tr>\n",
       "    <tr>\n",
       "      <th>3</th>\n",
       "      <td>NaN</td>\n",
       "      <td>Nan</td>\n",
       "    </tr>\n",
       "    <tr>\n",
       "      <th>4</th>\n",
       "      <td>ok</td>\n",
       "      <td>Nan</td>\n",
       "    </tr>\n",
       "  </tbody>\n",
       "</table>\n",
       "</div>"
      ],
      "text/plain": [
       "     A    B\n",
       "0  NaN  Nan\n",
       "1  NaN  Nan\n",
       "2   ok  Nan\n",
       "3  NaN  Nan\n",
       "4   ok  Nan"
      ]
     },
     "execution_count": 91,
     "metadata": {},
     "output_type": "execute_result"
    }
   ],
   "source": [
    "df3"
   ]
  },
  {
   "cell_type": "code",
   "execution_count": 108,
   "id": "c6ac0eb0",
   "metadata": {
    "ExecuteTime": {
     "end_time": "2022-03-22T23:08:08.371949Z",
     "start_time": "2022-03-22T23:08:08.354302Z"
    }
   },
   "outputs": [],
   "source": [
    "df3 = pd.merge(df2, df1,right_index=True, left_index=True )"
   ]
  },
  {
   "cell_type": "code",
   "execution_count": 109,
   "id": "5e1950d4",
   "metadata": {
    "ExecuteTime": {
     "end_time": "2022-03-22T23:08:09.750530Z",
     "start_time": "2022-03-22T23:08:09.725801Z"
    }
   },
   "outputs": [
    {
     "data": {
      "text/html": [
       "<div>\n",
       "<style scoped>\n",
       "    .dataframe tbody tr th:only-of-type {\n",
       "        vertical-align: middle;\n",
       "    }\n",
       "\n",
       "    .dataframe tbody tr th {\n",
       "        vertical-align: top;\n",
       "    }\n",
       "\n",
       "    .dataframe thead th {\n",
       "        text-align: right;\n",
       "    }\n",
       "</style>\n",
       "<table border=\"1\" class=\"dataframe\">\n",
       "  <thead>\n",
       "    <tr style=\"text-align: right;\">\n",
       "      <th></th>\n",
       "      <th>A_x</th>\n",
       "      <th>A_y</th>\n",
       "      <th>B</th>\n",
       "    </tr>\n",
       "  </thead>\n",
       "  <tbody>\n",
       "    <tr>\n",
       "      <th>2</th>\n",
       "      <td>ok</td>\n",
       "      <td>Nan</td>\n",
       "      <td>Nan</td>\n",
       "    </tr>\n",
       "    <tr>\n",
       "      <th>4</th>\n",
       "      <td>ok</td>\n",
       "      <td>Nan</td>\n",
       "      <td>Nan</td>\n",
       "    </tr>\n",
       "  </tbody>\n",
       "</table>\n",
       "</div>"
      ],
      "text/plain": [
       "  A_x  A_y    B\n",
       "2  ok  Nan  Nan\n",
       "4  ok  Nan  Nan"
      ]
     },
     "execution_count": 109,
     "metadata": {},
     "output_type": "execute_result"
    }
   ],
   "source": [
    "df3"
   ]
  },
  {
   "cell_type": "code",
   "execution_count": null,
   "id": "be486ffb",
   "metadata": {},
   "outputs": [],
   "source": []
  }
 ],
 "metadata": {
  "kernelspec": {
   "display_name": "Python 3 (ipykernel)",
   "language": "python",
   "name": "python3"
  },
  "language_info": {
   "codemirror_mode": {
    "name": "ipython",
    "version": 3
   },
   "file_extension": ".py",
   "mimetype": "text/x-python",
   "name": "python",
   "nbconvert_exporter": "python",
   "pygments_lexer": "ipython3",
   "version": "3.8.0"
  }
 },
 "nbformat": 4,
 "nbformat_minor": 5
}
