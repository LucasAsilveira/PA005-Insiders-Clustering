{
 "cells": [
  {
   "cell_type": "markdown",
   "id": "d3e9de95",
   "metadata": {
    "ExecuteTime": {
     "end_time": "2022-03-08T15:18:41.395847Z",
     "start_time": "2022-03-08T15:18:41.388787Z"
    },
    "heading_collapsed": true
   },
   "source": [
    "# PA005: High Value Customer Identification ( Insiders )"
   ]
  },
  {
   "cell_type": "markdown",
   "id": "ddbfd82a",
   "metadata": {
    "hidden": true
   },
   "source": [
    "## 0.0 Planejamento da Solução( IOT )"
   ]
  },
  {
   "cell_type": "markdown",
   "id": "00f25f54",
   "metadata": {
    "heading_collapsed": true,
    "hidden": true
   },
   "source": [
    "### Input - Entrada"
   ]
  },
  {
   "cell_type": "markdown",
   "id": "9f6d5836",
   "metadata": {
    "hidden": true
   },
   "source": [
    "1. Problema de Negócio\n",
    "- Selecionar os clientes mais valiosos para integrar um programa de Fidelização. \n",
    "\n",
    "2. Conjunto de Dados\n",
    "- Vendas de um e-commerce online, durante o período de um ano. "
   ]
  },
  {
   "cell_type": "markdown",
   "id": "27e98282",
   "metadata": {
    "heading_collapsed": true,
    "hidden": true
   },
   "source": [
    "### Outpout - Saída"
   ]
  },
  {
   "cell_type": "markdown",
   "id": "cbe635f7",
   "metadata": {
    "hidden": true
   },
   "source": [
    "1. indicação das pessoas que farão parte do programa de Insiders \n",
    "- Lista: client_id|is_insider|\n",
    "    \n",
    "            10323 | yes/1\n",
    "            32413 | no/1\n",
    "            \n",
    "2. Relatório com as respostas das perguntas de negócio.\n",
    "\n",
    "- Quem são as pessoas elegíveis para participar do programa de\n",
    "Insiders ?\n",
    "- Quantos clientes farão parte do grupo?\n",
    "- Quais as principais características desses clientes ?\n",
    "- Qual a porcentagem de contribuição do faturamento, vinda do\n",
    "Insiders ?\n",
    "- Qual a expectativa de faturamento desse grupo para os próximos\n",
    "meses ?\n",
    "- Quais as condições para uma pessoa ser elegível ao Insiders ?\n",
    "- Quais as condições para uma pessoa ser removida do Insiders ?\n",
    "- Qual a garantia que o programa Insiders é melhor que o restante da\n",
    "base ?\n",
    "- Quais ações o time de marketing pode realizar para aumentar o\n",
    "faturamento?"
   ]
  },
  {
   "cell_type": "markdown",
   "id": "e986a2aa",
   "metadata": {
    "ExecuteTime": {
     "end_time": "2022-03-08T17:10:18.797039Z",
     "start_time": "2022-03-08T17:10:18.786743Z"
    },
    "hidden": true
   },
   "source": [
    "### Tasks - Tarefas"
   ]
  },
  {
   "cell_type": "markdown",
   "id": "a85673d8",
   "metadata": {
    "ExecuteTime": {
     "end_time": "2022-03-08T17:10:35.256543Z",
     "start_time": "2022-03-08T17:10:35.249025Z"
    },
    "hidden": true
   },
   "source": [
    "1. Quem são as pessoas elegíveis para participar do programa de\n",
    "Insiders ?\n",
    "    - O que é ser elegível ?  O que são clientes de maior \"valor\"\n",
    "    - Faturamento: \n",
    "        - Alto Ticket médio.\n",
    "        - Alto LTV(receita média por cliente durante o relacionamento com a empresa.)\n",
    "        - Baixa Recência(tempo desde a ultima compra)\n",
    "        - Alto bascket size( Tamanho da sexta de compra)\n",
    "        - Baixa probabilidade de churn(Cliente para de comprar).\n",
    "        \n",
    "        \n",
    "    - Custo:\n",
    "        - Baixa Taxa de devolução. \n",
    "               \n",
    "        \n",
    "    - Experiência de Compra:\n",
    "        - Média alta das avaliação.         \n",
    "        \n",
    "\n",
    "2. Quantos clientes farão parte do grupo?\n",
    "    - Número total de clientes.\n",
    "    - % do grupo Insiders\n",
    "    \n",
    "3. Quais as principais características desses clientes ?\n",
    "    - Escrever características do cliente:\n",
    "        - Idade\n",
    "        - Localização. \n",
    "\n",
    "    - Escrever características do consumo.\n",
    "        - Atributos da clusterização. \n",
    "        \n",
    "4. Qual a porcentagem de contribuição do faturamento, vinda do Insiders ?\n",
    "         - Faturamento total do ano.\n",
    "         - Faturamento do grupo de Insiders\n",
    "         \n",
    "5. Qual a expectativa de faturamento desse grupo para os próximos meses ?\n",
    "        - LTV do grupo Insiders\n",
    "        - Análise de cohort()\n",
    "\n",
    "6. Quais as condições para uma pessoa ser elegível ao Insiders ?\n",
    "        - Definir a periodicidade( 1 mês, 3 mêses )\n",
    "        - A pessoa precisa ser similar ou parecido com uma pessoa grupo. \n",
    "               \n",
    "7. Quais as condições para uma pessoa ser removida do Insiders ?\n",
    "        - Definir a periodicidade( 1 mês, 3 mêses )\n",
    "        - A pessoa precisa ser desimilar ou não-parecido com uma pessoa grupo. \n",
    "        \n",
    "8. Qual a garantia que o programa Insiders é melhor que o restante da base ?\n",
    "    - Teste A/B\n",
    "    - Teste A/B Baysiano\n",
    "    - Teste de hipótese\n",
    "\n",
    "9. Quais ações o time de marketing pode realizar para aumentar o faturamento?\n",
    "    - Desconto\n",
    "    - Preferencia de compra\n",
    "    - Frente \n",
    "    - Visita a empresa"
   ]
  },
  {
   "cell_type": "markdown",
   "id": "a74a8f48",
   "metadata": {
    "ExecuteTime": {
     "end_time": "2022-03-09T13:03:35.432627Z",
     "start_time": "2022-03-09T13:03:35.426615Z"
    }
   },
   "source": [
    "# 0.0 Imports"
   ]
  },
  {
   "cell_type": "markdown",
   "id": "6c74074a",
   "metadata": {},
   "source": [
    "## 0.1. Libries"
   ]
  },
  {
   "cell_type": "code",
   "execution_count": 49,
   "id": "745b80d6",
   "metadata": {
    "ExecuteTime": {
     "end_time": "2022-03-10T14:08:23.636145Z",
     "start_time": "2022-03-10T14:08:23.393819Z"
    }
   },
   "outputs": [],
   "source": [
    "import pandas  as pd\n",
    "import numpy   as np\n",
    "import seaborn as sns\n",
    "\n",
    "from matplotlib          import pyplot  as plt\n",
    "from sklearn             import cluster as c\n",
    "from sklearn.cluster     import KMeans\n",
    "from yellowbrick.cluster import KElbowVisualizer\n",
    "\n",
    "import warnings\n",
    "warnings.filterwarnings('ignore')\n"
   ]
  },
  {
   "cell_type": "markdown",
   "id": "dcf7afce",
   "metadata": {},
   "source": [
    "## 0.2. Helper Function"
   ]
  },
  {
   "cell_type": "markdown",
   "id": "8dddce71",
   "metadata": {
    "heading_collapsed": true
   },
   "source": [
    "## 0.3. Load Dataset"
   ]
  },
  {
   "cell_type": "code",
   "execution_count": 2,
   "id": "10fd09db",
   "metadata": {
    "ExecuteTime": {
     "end_time": "2022-03-10T12:16:18.119470Z",
     "start_time": "2022-03-10T12:16:17.251443Z"
    },
    "hidden": true
   },
   "outputs": [],
   "source": [
    "#Load data\n",
    "df_raw = pd.read_csv('data/Ecommerce.csv', sep=',', encoding = \"ISO-8859-1\")\n",
    "\n",
    "#Drop extra column\n",
    "df_raw = df_raw.drop( columns = ['Unnamed: 8'], axis = 1 )"
   ]
  },
  {
   "cell_type": "code",
   "execution_count": 3,
   "id": "f4bc2d46",
   "metadata": {
    "ExecuteTime": {
     "end_time": "2022-03-10T12:16:18.164939Z",
     "start_time": "2022-03-10T12:16:18.121172Z"
    },
    "hidden": true
   },
   "outputs": [
    {
     "data": {
      "text/html": [
       "<div>\n",
       "<style scoped>\n",
       "    .dataframe tbody tr th:only-of-type {\n",
       "        vertical-align: middle;\n",
       "    }\n",
       "\n",
       "    .dataframe tbody tr th {\n",
       "        vertical-align: top;\n",
       "    }\n",
       "\n",
       "    .dataframe thead th {\n",
       "        text-align: right;\n",
       "    }\n",
       "</style>\n",
       "<table border=\"1\" class=\"dataframe\">\n",
       "  <thead>\n",
       "    <tr style=\"text-align: right;\">\n",
       "      <th></th>\n",
       "      <th>InvoiceNo</th>\n",
       "      <th>StockCode</th>\n",
       "      <th>Description</th>\n",
       "      <th>Quantity</th>\n",
       "      <th>InvoiceDate</th>\n",
       "      <th>UnitPrice</th>\n",
       "      <th>CustomerID</th>\n",
       "      <th>Country</th>\n",
       "    </tr>\n",
       "  </thead>\n",
       "  <tbody>\n",
       "    <tr>\n",
       "      <th>0</th>\n",
       "      <td>536365</td>\n",
       "      <td>85123A</td>\n",
       "      <td>WHITE HANGING HEART T-LIGHT HOLDER</td>\n",
       "      <td>6</td>\n",
       "      <td>29-Nov-16</td>\n",
       "      <td>2.55</td>\n",
       "      <td>17850.0</td>\n",
       "      <td>United Kingdom</td>\n",
       "    </tr>\n",
       "    <tr>\n",
       "      <th>1</th>\n",
       "      <td>536365</td>\n",
       "      <td>71053</td>\n",
       "      <td>WHITE METAL LANTERN</td>\n",
       "      <td>6</td>\n",
       "      <td>29-Nov-16</td>\n",
       "      <td>3.39</td>\n",
       "      <td>17850.0</td>\n",
       "      <td>United Kingdom</td>\n",
       "    </tr>\n",
       "    <tr>\n",
       "      <th>2</th>\n",
       "      <td>536365</td>\n",
       "      <td>84406B</td>\n",
       "      <td>CREAM CUPID HEARTS COAT HANGER</td>\n",
       "      <td>8</td>\n",
       "      <td>29-Nov-16</td>\n",
       "      <td>2.75</td>\n",
       "      <td>17850.0</td>\n",
       "      <td>United Kingdom</td>\n",
       "    </tr>\n",
       "    <tr>\n",
       "      <th>3</th>\n",
       "      <td>536365</td>\n",
       "      <td>84029G</td>\n",
       "      <td>KNITTED UNION FLAG HOT WATER BOTTLE</td>\n",
       "      <td>6</td>\n",
       "      <td>29-Nov-16</td>\n",
       "      <td>3.39</td>\n",
       "      <td>17850.0</td>\n",
       "      <td>United Kingdom</td>\n",
       "    </tr>\n",
       "    <tr>\n",
       "      <th>4</th>\n",
       "      <td>536365</td>\n",
       "      <td>84029E</td>\n",
       "      <td>RED WOOLLY HOTTIE WHITE HEART.</td>\n",
       "      <td>6</td>\n",
       "      <td>29-Nov-16</td>\n",
       "      <td>3.39</td>\n",
       "      <td>17850.0</td>\n",
       "      <td>United Kingdom</td>\n",
       "    </tr>\n",
       "  </tbody>\n",
       "</table>\n",
       "</div>"
      ],
      "text/plain": [
       "  InvoiceNo StockCode                          Description  Quantity  \\\n",
       "0    536365    85123A   WHITE HANGING HEART T-LIGHT HOLDER         6   \n",
       "1    536365     71053                  WHITE METAL LANTERN         6   \n",
       "2    536365    84406B       CREAM CUPID HEARTS COAT HANGER         8   \n",
       "3    536365    84029G  KNITTED UNION FLAG HOT WATER BOTTLE         6   \n",
       "4    536365    84029E       RED WOOLLY HOTTIE WHITE HEART.         6   \n",
       "\n",
       "  InvoiceDate  UnitPrice  CustomerID         Country  \n",
       "0   29-Nov-16       2.55     17850.0  United Kingdom  \n",
       "1   29-Nov-16       3.39     17850.0  United Kingdom  \n",
       "2   29-Nov-16       2.75     17850.0  United Kingdom  \n",
       "3   29-Nov-16       3.39     17850.0  United Kingdom  \n",
       "4   29-Nov-16       3.39     17850.0  United Kingdom  "
      ]
     },
     "execution_count": 3,
     "metadata": {},
     "output_type": "execute_result"
    }
   ],
   "source": [
    "df_raw.head()"
   ]
  },
  {
   "cell_type": "markdown",
   "id": "16094006",
   "metadata": {},
   "source": [
    "# 1.0. Descrição dos Dados"
   ]
  },
  {
   "cell_type": "code",
   "execution_count": 4,
   "id": "00072b28",
   "metadata": {
    "ExecuteTime": {
     "end_time": "2022-03-10T12:16:18.247096Z",
     "start_time": "2022-03-10T12:16:18.170060Z"
    }
   },
   "outputs": [],
   "source": [
    "df1 = df_raw.copy()"
   ]
  },
  {
   "cell_type": "markdown",
   "id": "75bb3229",
   "metadata": {},
   "source": [
    "## 1.1 Rename Columuns"
   ]
  },
  {
   "cell_type": "code",
   "execution_count": 5,
   "id": "0c3ecb0e",
   "metadata": {
    "ExecuteTime": {
     "end_time": "2022-03-10T12:16:18.287946Z",
     "start_time": "2022-03-10T12:16:18.265194Z"
    }
   },
   "outputs": [
    {
     "data": {
      "text/plain": [
       "Index(['InvoiceNo', 'StockCode', 'Description', 'Quantity', 'InvoiceDate',\n",
       "       'UnitPrice', 'CustomerID', 'Country'],\n",
       "      dtype='object')"
      ]
     },
     "execution_count": 5,
     "metadata": {},
     "output_type": "execute_result"
    }
   ],
   "source": [
    "df1.columns"
   ]
  },
  {
   "cell_type": "code",
   "execution_count": 6,
   "id": "181d5369",
   "metadata": {
    "ExecuteTime": {
     "end_time": "2022-03-10T12:16:18.323056Z",
     "start_time": "2022-03-10T12:16:18.307917Z"
    }
   },
   "outputs": [
    {
     "data": {
      "text/plain": [
       "Index(['invoice_no', 'stock_code', 'description', 'quantity', 'invoice_date',\n",
       "       'unit_price', 'customer_id', 'country'],\n",
       "      dtype='object')"
      ]
     },
     "execution_count": 6,
     "metadata": {},
     "output_type": "execute_result"
    }
   ],
   "source": [
    "cols_new= ['invoice_no', 'stock_code', 'description', 'quantity', 'invoice_date', 'unit_price', 'customer_id', 'country']\n",
    "df1.columns = cols_new\n",
    "df1.columns"
   ]
  },
  {
   "cell_type": "markdown",
   "id": "b8cf4c95",
   "metadata": {},
   "source": [
    "## 1.2. Data Dimensions"
   ]
  },
  {
   "cell_type": "code",
   "execution_count": 7,
   "id": "65eac1c8",
   "metadata": {
    "ExecuteTime": {
     "end_time": "2022-03-10T12:16:18.346388Z",
     "start_time": "2022-03-10T12:16:18.329743Z"
    }
   },
   "outputs": [
    {
     "name": "stdout",
     "output_type": "stream",
     "text": [
      "Number of Rows: 541909\n",
      "Number of cols: 8\n"
     ]
    }
   ],
   "source": [
    "print( 'Number of Rows: {}'.format( df1.shape[0] ) )\n",
    "print( 'Number of cols: {}'.format( df1.shape[1] ) )"
   ]
  },
  {
   "cell_type": "markdown",
   "id": "0fd8b432",
   "metadata": {},
   "source": [
    "## 1.3. Data Types"
   ]
  },
  {
   "cell_type": "code",
   "execution_count": 8,
   "id": "7d453b0f",
   "metadata": {
    "ExecuteTime": {
     "end_time": "2022-03-10T12:16:18.373231Z",
     "start_time": "2022-03-10T12:16:18.355306Z"
    }
   },
   "outputs": [
    {
     "data": {
      "text/plain": [
       "invoice_no       object\n",
       "stock_code       object\n",
       "description      object\n",
       "quantity          int64\n",
       "invoice_date     object\n",
       "unit_price      float64\n",
       "customer_id     float64\n",
       "country          object\n",
       "dtype: object"
      ]
     },
     "execution_count": 8,
     "metadata": {},
     "output_type": "execute_result"
    }
   ],
   "source": [
    "df1.dtypes"
   ]
  },
  {
   "cell_type": "markdown",
   "id": "16335e28",
   "metadata": {
    "heading_collapsed": true
   },
   "source": [
    "## 1.4. Check NA"
   ]
  },
  {
   "cell_type": "code",
   "execution_count": 9,
   "id": "4919a289",
   "metadata": {
    "ExecuteTime": {
     "end_time": "2022-03-10T12:16:18.743107Z",
     "start_time": "2022-03-10T12:16:18.380678Z"
    },
    "hidden": true
   },
   "outputs": [
    {
     "data": {
      "text/plain": [
       "invoice_no           0\n",
       "stock_code           0\n",
       "description       1454\n",
       "quantity             0\n",
       "invoice_date         0\n",
       "unit_price           0\n",
       "customer_id     135080\n",
       "country              0\n",
       "dtype: int64"
      ]
     },
     "execution_count": 9,
     "metadata": {},
     "output_type": "execute_result"
    }
   ],
   "source": [
    "df1.isna().sum()"
   ]
  },
  {
   "cell_type": "markdown",
   "id": "d8ae6ffe",
   "metadata": {
    "heading_collapsed": true
   },
   "source": [
    "## 1.5 Replace NA"
   ]
  },
  {
   "cell_type": "code",
   "execution_count": 10,
   "id": "47beecd8",
   "metadata": {
    "ExecuteTime": {
     "end_time": "2022-03-10T12:16:18.916896Z",
     "start_time": "2022-03-10T12:16:18.750641Z"
    },
    "hidden": true
   },
   "outputs": [
    {
     "name": "stdout",
     "output_type": "stream",
     "text": [
      "Foram removidos: 0.25% dos dados\n"
     ]
    }
   ],
   "source": [
    "df1 = df1.dropna( subset = ['description', 'customer_id'])\n",
    "print( 'Foram removidos: {:.2f}% dos dados'.format( 1- (df1.shape[0]/df_raw.shape[0])))"
   ]
  },
  {
   "cell_type": "code",
   "execution_count": 11,
   "id": "bf3c6e69",
   "metadata": {
    "ExecuteTime": {
     "end_time": "2022-03-10T12:16:19.182869Z",
     "start_time": "2022-03-10T12:16:18.919332Z"
    },
    "hidden": true
   },
   "outputs": [
    {
     "data": {
      "text/plain": [
       "invoice_no      0\n",
       "stock_code      0\n",
       "description     0\n",
       "quantity        0\n",
       "invoice_date    0\n",
       "unit_price      0\n",
       "customer_id     0\n",
       "country         0\n",
       "dtype: int64"
      ]
     },
     "execution_count": 11,
     "metadata": {},
     "output_type": "execute_result"
    }
   ],
   "source": [
    "df1.isna().sum()"
   ]
  },
  {
   "cell_type": "markdown",
   "id": "c58990e3",
   "metadata": {
    "heading_collapsed": true
   },
   "source": [
    "## 1.6 Change Types"
   ]
  },
  {
   "cell_type": "code",
   "execution_count": 12,
   "id": "c5fcd763",
   "metadata": {
    "ExecuteTime": {
     "end_time": "2022-03-10T12:16:19.272745Z",
     "start_time": "2022-03-10T12:16:19.187798Z"
    },
    "hidden": true
   },
   "outputs": [
    {
     "data": {
      "text/html": [
       "<div>\n",
       "<style scoped>\n",
       "    .dataframe tbody tr th:only-of-type {\n",
       "        vertical-align: middle;\n",
       "    }\n",
       "\n",
       "    .dataframe tbody tr th {\n",
       "        vertical-align: top;\n",
       "    }\n",
       "\n",
       "    .dataframe thead th {\n",
       "        text-align: right;\n",
       "    }\n",
       "</style>\n",
       "<table border=\"1\" class=\"dataframe\">\n",
       "  <thead>\n",
       "    <tr style=\"text-align: right;\">\n",
       "      <th></th>\n",
       "      <th>invoice_no</th>\n",
       "      <th>stock_code</th>\n",
       "      <th>description</th>\n",
       "      <th>quantity</th>\n",
       "      <th>invoice_date</th>\n",
       "      <th>unit_price</th>\n",
       "      <th>customer_id</th>\n",
       "      <th>country</th>\n",
       "    </tr>\n",
       "  </thead>\n",
       "  <tbody>\n",
       "    <tr>\n",
       "      <th>0</th>\n",
       "      <td>536365</td>\n",
       "      <td>85123A</td>\n",
       "      <td>WHITE HANGING HEART T-LIGHT HOLDER</td>\n",
       "      <td>6</td>\n",
       "      <td>2016-11-29</td>\n",
       "      <td>2.55</td>\n",
       "      <td>17850</td>\n",
       "      <td>United Kingdom</td>\n",
       "    </tr>\n",
       "  </tbody>\n",
       "</table>\n",
       "</div>"
      ],
      "text/plain": [
       "  invoice_no stock_code                         description  quantity  \\\n",
       "0     536365     85123A  WHITE HANGING HEART T-LIGHT HOLDER         6   \n",
       "\n",
       "  invoice_date  unit_price  customer_id         country  \n",
       "0   2016-11-29        2.55        17850  United Kingdom  "
      ]
     },
     "execution_count": 12,
     "metadata": {},
     "output_type": "execute_result"
    }
   ],
   "source": [
    "#invoice date\n",
    "df1['invoice_date'] = pd.to_datetime( df1['invoice_date'], format = '%d-%b-%y')\n",
    "\n",
    "#customer id\n",
    "df1['customer_id'] = df1['customer_id'].astype( int )\n",
    "df1.head(1)"
   ]
  },
  {
   "cell_type": "code",
   "execution_count": 13,
   "id": "d9c4e261",
   "metadata": {
    "ExecuteTime": {
     "end_time": "2022-03-10T12:16:19.295422Z",
     "start_time": "2022-03-10T12:16:19.282654Z"
    },
    "hidden": true
   },
   "outputs": [
    {
     "data": {
      "text/plain": [
       "invoice_no              object\n",
       "stock_code              object\n",
       "description             object\n",
       "quantity                 int64\n",
       "invoice_date    datetime64[ns]\n",
       "unit_price             float64\n",
       "customer_id              int64\n",
       "country                 object\n",
       "dtype: object"
      ]
     },
     "execution_count": 13,
     "metadata": {},
     "output_type": "execute_result"
    }
   ],
   "source": [
    "df1.dtypes"
   ]
  },
  {
   "cell_type": "markdown",
   "id": "33c1cf9d",
   "metadata": {
    "heading_collapsed": true
   },
   "source": [
    "## 1.7. Desctiptive Statistical"
   ]
  },
  {
   "cell_type": "markdown",
   "id": "f278cb0b",
   "metadata": {
    "hidden": true
   },
   "source": []
  },
  {
   "cell_type": "markdown",
   "id": "4822f52c",
   "metadata": {
    "heading_collapsed": true
   },
   "source": [
    "# 2.0. Feature Engeneering"
   ]
  },
  {
   "cell_type": "code",
   "execution_count": 14,
   "id": "880433e9",
   "metadata": {
    "ExecuteTime": {
     "end_time": "2022-03-10T12:16:19.339398Z",
     "start_time": "2022-03-10T12:16:19.306389Z"
    },
    "hidden": true
   },
   "outputs": [],
   "source": [
    "df2 = df1.copy()"
   ]
  },
  {
   "cell_type": "markdown",
   "id": "f9248e58",
   "metadata": {
    "hidden": true
   },
   "source": [
    "## 2.1. Feature Creation"
   ]
  },
  {
   "cell_type": "code",
   "execution_count": 15,
   "id": "f16d00d7",
   "metadata": {
    "ExecuteTime": {
     "end_time": "2022-03-10T12:16:19.383840Z",
     "start_time": "2022-03-10T12:16:19.359760Z"
    },
    "hidden": true
   },
   "outputs": [
    {
     "data": {
      "text/html": [
       "<div>\n",
       "<style scoped>\n",
       "    .dataframe tbody tr th:only-of-type {\n",
       "        vertical-align: middle;\n",
       "    }\n",
       "\n",
       "    .dataframe tbody tr th {\n",
       "        vertical-align: top;\n",
       "    }\n",
       "\n",
       "    .dataframe thead th {\n",
       "        text-align: right;\n",
       "    }\n",
       "</style>\n",
       "<table border=\"1\" class=\"dataframe\">\n",
       "  <thead>\n",
       "    <tr style=\"text-align: right;\">\n",
       "      <th></th>\n",
       "      <th>invoice_no</th>\n",
       "      <th>stock_code</th>\n",
       "      <th>description</th>\n",
       "      <th>quantity</th>\n",
       "      <th>invoice_date</th>\n",
       "      <th>unit_price</th>\n",
       "      <th>customer_id</th>\n",
       "      <th>country</th>\n",
       "    </tr>\n",
       "  </thead>\n",
       "  <tbody>\n",
       "    <tr>\n",
       "      <th>0</th>\n",
       "      <td>536365</td>\n",
       "      <td>85123A</td>\n",
       "      <td>WHITE HANGING HEART T-LIGHT HOLDER</td>\n",
       "      <td>6</td>\n",
       "      <td>2016-11-29</td>\n",
       "      <td>2.55</td>\n",
       "      <td>17850</td>\n",
       "      <td>United Kingdom</td>\n",
       "    </tr>\n",
       "    <tr>\n",
       "      <th>1</th>\n",
       "      <td>536365</td>\n",
       "      <td>71053</td>\n",
       "      <td>WHITE METAL LANTERN</td>\n",
       "      <td>6</td>\n",
       "      <td>2016-11-29</td>\n",
       "      <td>3.39</td>\n",
       "      <td>17850</td>\n",
       "      <td>United Kingdom</td>\n",
       "    </tr>\n",
       "    <tr>\n",
       "      <th>2</th>\n",
       "      <td>536365</td>\n",
       "      <td>84406B</td>\n",
       "      <td>CREAM CUPID HEARTS COAT HANGER</td>\n",
       "      <td>8</td>\n",
       "      <td>2016-11-29</td>\n",
       "      <td>2.75</td>\n",
       "      <td>17850</td>\n",
       "      <td>United Kingdom</td>\n",
       "    </tr>\n",
       "    <tr>\n",
       "      <th>3</th>\n",
       "      <td>536365</td>\n",
       "      <td>84029G</td>\n",
       "      <td>KNITTED UNION FLAG HOT WATER BOTTLE</td>\n",
       "      <td>6</td>\n",
       "      <td>2016-11-29</td>\n",
       "      <td>3.39</td>\n",
       "      <td>17850</td>\n",
       "      <td>United Kingdom</td>\n",
       "    </tr>\n",
       "    <tr>\n",
       "      <th>4</th>\n",
       "      <td>536365</td>\n",
       "      <td>84029E</td>\n",
       "      <td>RED WOOLLY HOTTIE WHITE HEART.</td>\n",
       "      <td>6</td>\n",
       "      <td>2016-11-29</td>\n",
       "      <td>3.39</td>\n",
       "      <td>17850</td>\n",
       "      <td>United Kingdom</td>\n",
       "    </tr>\n",
       "  </tbody>\n",
       "</table>\n",
       "</div>"
      ],
      "text/plain": [
       "  invoice_no stock_code                          description  quantity  \\\n",
       "0     536365     85123A   WHITE HANGING HEART T-LIGHT HOLDER         6   \n",
       "1     536365      71053                  WHITE METAL LANTERN         6   \n",
       "2     536365     84406B       CREAM CUPID HEARTS COAT HANGER         8   \n",
       "3     536365     84029G  KNITTED UNION FLAG HOT WATER BOTTLE         6   \n",
       "4     536365     84029E       RED WOOLLY HOTTIE WHITE HEART.         6   \n",
       "\n",
       "  invoice_date  unit_price  customer_id         country  \n",
       "0   2016-11-29        2.55        17850  United Kingdom  \n",
       "1   2016-11-29        3.39        17850  United Kingdom  \n",
       "2   2016-11-29        2.75        17850  United Kingdom  \n",
       "3   2016-11-29        3.39        17850  United Kingdom  \n",
       "4   2016-11-29        3.39        17850  United Kingdom  "
      ]
     },
     "execution_count": 15,
     "metadata": {},
     "output_type": "execute_result"
    }
   ],
   "source": [
    "df2.head()"
   ]
  },
  {
   "cell_type": "code",
   "execution_count": 16,
   "id": "5767b4a6",
   "metadata": {
    "ExecuteTime": {
     "end_time": "2022-03-10T12:16:19.436673Z",
     "start_time": "2022-03-10T12:16:19.396453Z"
    },
    "hidden": true
   },
   "outputs": [],
   "source": [
    "#data reference\n",
    "df_ref = df2.drop(['invoice_no', 'stock_code', 'description','quantity','unit_price','invoice_date','country'], axis = 1).drop_duplicates(ignore_index = True )\n"
   ]
  },
  {
   "cell_type": "code",
   "execution_count": 17,
   "id": "855c6575",
   "metadata": {
    "ExecuteTime": {
     "end_time": "2022-03-10T12:16:19.681754Z",
     "start_time": "2022-03-10T12:16:19.449083Z"
    },
    "hidden": true
   },
   "outputs": [],
   "source": [
    "# Gross Revenue ( Faturamento ) quanty + price \n",
    "df2['gross_revenue'] = df2[ 'quantity' ] * df2[ 'unit_price' ]\n",
    "\n",
    "# Monetary\n",
    "df_monetary = df2[['customer_id', 'gross_revenue']].groupby( 'customer_id').sum().reset_index()\n",
    "df_ref = pd.merge( df_ref, df_monetary, on = 'customer_id', how= 'left')\n",
    "                  \n",
    "# Recency - Last day purchase\n",
    "df_recency = df2[['customer_id', 'invoice_date']].groupby( 'customer_id').max().reset_index()\n",
    "df_recency['recency_days'] = (df2['invoice_date'].max() - df_recency['invoice_date'] ).dt.days\n",
    "df_recency = df_recency[['customer_id', 'recency_days']].copy()\n",
    "df_ref = pd.merge(df_ref, df_recency, on = 'customer_id', how = 'left' )\n",
    "\n",
    "#Frequency\n",
    "df_freq = df2[['customer_id', 'invoice_no']].drop_duplicates().groupby( 'customer_id').count().reset_index()\n",
    "df_ref = pd.merge(df_ref, df_freq, on = 'customer_id', how = 'left' )"
   ]
  },
  {
   "cell_type": "code",
   "execution_count": 18,
   "id": "79ef0112",
   "metadata": {
    "ExecuteTime": {
     "end_time": "2022-03-10T12:24:53.507730Z",
     "start_time": "2022-03-10T12:24:53.477057Z"
    },
    "hidden": true
   },
   "outputs": [
    {
     "data": {
      "text/html": [
       "<div>\n",
       "<style scoped>\n",
       "    .dataframe tbody tr th:only-of-type {\n",
       "        vertical-align: middle;\n",
       "    }\n",
       "\n",
       "    .dataframe tbody tr th {\n",
       "        vertical-align: top;\n",
       "    }\n",
       "\n",
       "    .dataframe thead th {\n",
       "        text-align: right;\n",
       "    }\n",
       "</style>\n",
       "<table border=\"1\" class=\"dataframe\">\n",
       "  <thead>\n",
       "    <tr style=\"text-align: right;\">\n",
       "      <th></th>\n",
       "      <th>customer_id</th>\n",
       "      <th>gross_revenue</th>\n",
       "      <th>recency_days</th>\n",
       "      <th>invoice_no</th>\n",
       "    </tr>\n",
       "  </thead>\n",
       "  <tbody>\n",
       "    <tr>\n",
       "      <th>0</th>\n",
       "      <td>17850</td>\n",
       "      <td>5288.63</td>\n",
       "      <td>302</td>\n",
       "      <td>35</td>\n",
       "    </tr>\n",
       "    <tr>\n",
       "      <th>1</th>\n",
       "      <td>13047</td>\n",
       "      <td>3079.10</td>\n",
       "      <td>31</td>\n",
       "      <td>18</td>\n",
       "    </tr>\n",
       "    <tr>\n",
       "      <th>2</th>\n",
       "      <td>12583</td>\n",
       "      <td>7187.34</td>\n",
       "      <td>2</td>\n",
       "      <td>18</td>\n",
       "    </tr>\n",
       "    <tr>\n",
       "      <th>3</th>\n",
       "      <td>13748</td>\n",
       "      <td>948.25</td>\n",
       "      <td>95</td>\n",
       "      <td>5</td>\n",
       "    </tr>\n",
       "    <tr>\n",
       "      <th>4</th>\n",
       "      <td>15100</td>\n",
       "      <td>635.10</td>\n",
       "      <td>330</td>\n",
       "      <td>6</td>\n",
       "    </tr>\n",
       "  </tbody>\n",
       "</table>\n",
       "</div>"
      ],
      "text/plain": [
       "   customer_id  gross_revenue  recency_days  invoice_no\n",
       "0        17850        5288.63           302          35\n",
       "1        13047        3079.10            31          18\n",
       "2        12583        7187.34             2          18\n",
       "3        13748         948.25            95           5\n",
       "4        15100         635.10           330           6"
      ]
     },
     "execution_count": 18,
     "metadata": {},
     "output_type": "execute_result"
    }
   ],
   "source": [
    "df_ref.head()"
   ]
  },
  {
   "cell_type": "markdown",
   "id": "bc7130b2",
   "metadata": {},
   "source": [
    "# 3.0. Data Filtering"
   ]
  },
  {
   "cell_type": "code",
   "execution_count": 24,
   "id": "5281c6b8",
   "metadata": {
    "ExecuteTime": {
     "end_time": "2022-03-10T12:52:59.417814Z",
     "start_time": "2022-03-10T12:52:59.388558Z"
    }
   },
   "outputs": [],
   "source": [
    "df3 = df_ref.copy()"
   ]
  },
  {
   "cell_type": "markdown",
   "id": "35c34f50",
   "metadata": {},
   "source": [
    "# 4.0. EDA(Exploratory Data Analysis)"
   ]
  },
  {
   "cell_type": "code",
   "execution_count": 25,
   "id": "6fd5ca92",
   "metadata": {
    "ExecuteTime": {
     "end_time": "2022-03-10T12:53:00.558064Z",
     "start_time": "2022-03-10T12:53:00.527933Z"
    }
   },
   "outputs": [],
   "source": [
    "df4 = df3.copy()"
   ]
  },
  {
   "cell_type": "markdown",
   "id": "9e4c949b",
   "metadata": {},
   "source": [
    "# 5.0. Data Preparation"
   ]
  },
  {
   "cell_type": "code",
   "execution_count": 26,
   "id": "8092d485",
   "metadata": {
    "ExecuteTime": {
     "end_time": "2022-03-10T12:53:01.530857Z",
     "start_time": "2022-03-10T12:53:01.512641Z"
    }
   },
   "outputs": [],
   "source": [
    "df5 = df4.copy()"
   ]
  },
  {
   "cell_type": "markdown",
   "id": "0d39932a",
   "metadata": {},
   "source": [
    "# 6.0. Feature Selection"
   ]
  },
  {
   "cell_type": "code",
   "execution_count": 27,
   "id": "ea6a2d1c",
   "metadata": {
    "ExecuteTime": {
     "end_time": "2022-03-10T12:53:02.531998Z",
     "start_time": "2022-03-10T12:53:02.484458Z"
    }
   },
   "outputs": [],
   "source": [
    "df6 = df5.copy()"
   ]
  },
  {
   "cell_type": "markdown",
   "id": "dbaa7674",
   "metadata": {},
   "source": [
    "# 7.0. Hyperparameter Fine-Tunning"
   ]
  },
  {
   "cell_type": "code",
   "execution_count": 29,
   "id": "3bc81361",
   "metadata": {
    "ExecuteTime": {
     "end_time": "2022-03-10T12:56:02.435785Z",
     "start_time": "2022-03-10T12:56:02.419086Z"
    }
   },
   "outputs": [],
   "source": [
    "x = df6.drop( columns = ['customer_id'])"
   ]
  },
  {
   "cell_type": "code",
   "execution_count": 31,
   "id": "8b501b8a",
   "metadata": {
    "ExecuteTime": {
     "end_time": "2022-03-10T13:05:59.800889Z",
     "start_time": "2022-03-10T13:05:59.786347Z"
    }
   },
   "outputs": [],
   "source": [
    "clusters = [2, 3, 4, 5, 6 ]"
   ]
  },
  {
   "cell_type": "markdown",
   "id": "50ef2bb4",
   "metadata": {
    "ExecuteTime": {
     "end_time": "2022-03-10T12:56:54.823950Z",
     "start_time": "2022-03-10T12:56:54.810430Z"
    }
   },
   "source": [
    "## 7.1 Within-Cluster Sum of Square( WSS )"
   ]
  },
  {
   "cell_type": "code",
   "execution_count": 46,
   "id": "0cbb94da",
   "metadata": {
    "ExecuteTime": {
     "end_time": "2022-03-10T13:38:23.456635Z",
     "start_time": "2022-03-10T13:38:22.646924Z"
    }
   },
   "outputs": [
    {
     "data": {
      "text/plain": [
       "Text(0.5, 1.0, 'WSS vc K')"
      ]
     },
     "execution_count": 46,
     "metadata": {},
     "output_type": "execute_result"
    },
    {
     "data": {
      "image/png": "[encoded data removed]",
      "text/plain": [
       "<Figure size 432x288 with 1 Axes>"
      ]
     },
     "metadata": {
      "needs_background": "light"
     },
     "output_type": "display_data"
    }
   ],
   "source": [
    "wss = []\n",
    "for k in clusters:\n",
    "    #model definition\n",
    "    kmeans = c.KMeans( init = 'random', n_clusters = k, n_init = 10, max_iter = 300, random_state = 42 )\n",
    "    \n",
    "    #model training\n",
    "    kmeans.fit( x )\n",
    "    \n",
    "    #validation\n",
    "    wss.append( kmeans.inertia_)\n",
    "\n",
    "#plot wss - elbow methods\n",
    "plt.plot( clusters, wss, linestyle = '--', marker = 'o', color = 'b')\n",
    "plt.xlabel( 'k' )\n",
    "plt.ylabel( 'Within-Cluster Sum of Square' );\n",
    "plt.title( 'WSS vc K')\n"
   ]
  },
  {
   "cell_type": "code",
   "execution_count": 53,
   "id": "6f411639",
   "metadata": {
    "ExecuteTime": {
     "end_time": "2022-03-10T14:20:36.815990Z",
     "start_time": "2022-03-10T14:20:35.352812Z"
    }
   },
   "outputs": [
    {
     "data": {
      "image/png": "[encoded data removed]",
      "text/plain": [
       "<Figure size 576x396 with 2 Axes>"
      ]
     },
     "metadata": {},
     "output_type": "display_data"
    }
   ],
   "source": [
    "kmeans = KElbowVisualizer( c.KMeans(), k = clusters, timining = False )\n",
    "kmeans.fit( x )\n",
    "kmeans.show();"
   ]
  },
  {
   "cell_type": "markdown",
   "id": "381c9c7a",
   "metadata": {},
   "source": [
    "## 7.2 Within-Cluster Sum of Square( WSS )"
   ]
  },
  {
   "cell_type": "code",
   "execution_count": null,
   "id": "87ea914a",
   "metadata": {},
   "outputs": [],
   "source": []
  },
  {
   "cell_type": "markdown",
   "id": "28cf4f2d",
   "metadata": {},
   "source": [
    "# 8.0. Machine Learning"
   ]
  },
  {
   "cell_type": "markdown",
   "id": "4aa9e911",
   "metadata": {},
   "source": [
    "# 9.0. Cluster Analysis"
   ]
  },
  {
   "cell_type": "markdown",
   "id": "d7fc1e5e",
   "metadata": {},
   "source": [
    "# 10.0. Deploy To Production"
   ]
  },
  {
   "cell_type": "code",
   "execution_count": 22,
   "id": "eda4b4e2",
   "metadata": {
    "ExecuteTime": {
     "end_time": "2022-03-09T17:11:21.779994Z",
     "start_time": "2022-03-09T17:11:21.777892Z"
    }
   },
   "outputs": [],
   "source": []
  },
  {
   "cell_type": "code",
   "execution_count": null,
   "id": "9d2406a1",
   "metadata": {},
   "outputs": [],
   "source": []
  }
 ],
 "metadata": {
  "kernelspec": {
   "display_name": "Python 3 (ipykernel)",
   "language": "python",
   "name": "python3"
  },
  "language_info": {
   "codemirror_mode": {
    "name": "ipython",
    "version": 3
   },
   "file_extension": ".py",
   "mimetype": "text/x-python",
   "name": "python",
   "nbconvert_exporter": "python",
   "pygments_lexer": "ipython3",
   "version": "3.8.0"
  }
 },
 "nbformat": 4,
 "nbformat_minor": 5
}
